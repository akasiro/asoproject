{
 "cells": [
  {
   "cell_type": "markdown",
   "metadata": {},
   "source": [
    "# 本项目用于将数据中的type_code修改为数字格式\n",
    "# 增加一个变量free game"
   ]
  },
  {
   "cell_type": "code",
   "execution_count": 1,
   "metadata": {},
   "outputs": [],
   "source": [
    "import pandas as pd\n",
    "import numpy as np\n",
    "import os, sqlite3"
   ]
  },
  {
   "cell_type": "code",
   "execution_count": 2,
   "metadata": {},
   "outputs": [
    {
     "name": "stdout",
     "output_type": "stream",
     "text": [
      "(15963, 48) \n",
      "       appleid type_code      date   timestamp  diff_p_f  diff_p_max  diff_e_f  \\\n",
      "0  1074628617   T200500  20170131  1485878400  0.934714    0.973451  0.999256   \n",
      "1  1027445769   T200500  20170131  1485878400  0.826628    0.951865  0.999433   \n",
      "2  1182272912   T200500  20170131  1485878400  0.906568    0.939965  0.999623   \n",
      "3   454802329   T200500  20170131  1485878400  0.793587    0.313163  0.999058   \n",
      "4   958024475   T200500  20170131  1485878400  0.867713    0.855861  0.978332   \n",
      "\n",
      "   diff_e_max  price  rdtimestamp  ...  g_apptype_m  g_apptype_v  g_gtype_m  \\\n",
      "0    0.776210    0.0   1453651200  ...    59.000000  1553.785714   6.862069   \n",
      "1    0.855624    0.0   1441123200  ...    72.781250  2854.240927   5.750000   \n",
      "2    0.705356    0.0   1482422400  ...    67.758621  2804.240534   6.517241   \n",
      "3    0.588596   68.0   1312905600  ...    42.866667   339.552381   5.066667   \n",
      "4    0.572557    0.0   1447603200  ...    56.800000   893.955556   6.700000   \n",
      "\n",
      "   g_gtype_v   g_game_m    g_game_v  g_rgame_m  g_rgame_v  g_rgtype_m  \\\n",
      "0   6.551724  13.034483   70.748768   0.237363   0.011621    0.389029   \n",
      "1   5.354839  15.156250  109.490927   0.227892   0.010250    0.326140   \n",
      "2  10.000044  14.465517  217.275261   0.206111   0.011021    0.321090   \n",
      "3   6.352381   7.866667   42.409524   0.174708   0.008964    0.274068   \n",
      "4   6.677778  14.500000  177.388889   0.245517   0.017364    0.298065   \n",
      "\n",
      "   g_rgtype_v  \n",
      "0    0.015363  \n",
      "1    0.010026  \n",
      "2    0.020677  \n",
      "3    0.010776  \n",
      "4    0.007853  \n",
      "\n",
      "[5 rows x 48 columns]\n"
     ]
    }
   ],
   "source": [
    "regtable_base = pd.read_csv(r'D:\\documents\\data\\aso.niaoge\\forreg20190913\\regtable20190920.csv')\n",
    "print(regtable_base.shape,'\\n',regtable_base.head())\n"
   ]
  },
  {
   "cell_type": "code",
   "execution_count": 3,
   "metadata": {},
   "outputs": [
    {
     "name": "stdout",
     "output_type": "stream",
     "text": [
      "(15963, 47) \n",
      "       appleid  type_code      date   timestamp  span  price  free  payInApp  \\\n",
      "0  1074628617     200500  20170131  1485878400     1    0.0     1         0   \n",
      "1  1027445769     200500  20170131  1485878400     1    0.0     1         1   \n",
      "2  1182272912     200500  20170131  1485878400     1    0.0     1         1   \n",
      "3   454802329     200500  20170131  1485878400     1   68.0     0         1   \n",
      "4   958024475     200500  20170131  1485878400     1    0.0     1         1   \n",
      "\n",
      "     size  compatibility  ...  g_rgtype_m  g_rgtype_v  active_num  cover_num  \\\n",
      "0  275.93            7.0  ...    0.389029    0.015363           4         29   \n",
      "1  109.50            8.0  ...    0.326140    0.010026           0         32   \n",
      "2  176.92            6.0  ...    0.321090    0.020677          11         58   \n",
      "3  182.40            8.0  ...    0.274068    0.010776           1         15   \n",
      "4  635.89            6.0  ...    0.298065    0.007853           0         10   \n",
      "\n",
      "        mau  coverage  diff_p_f  diff_p_max  diff_e_f  diff_e_max  \n",
      "0  0.000011  0.000078  0.934714    0.973451  0.999256    0.776210  \n",
      "1  0.000000  0.000086  0.826628    0.951865  0.999433    0.855624  \n",
      "2  0.000029  0.000155  0.906568    0.939965  0.999623    0.705356  \n",
      "3  0.000003  0.000040  0.793587    0.313163  0.999058    0.588596  \n",
      "4  0.000000  0.000027  0.867713    0.855861  0.978332    0.572557  \n",
      "\n",
      "[5 rows x 47 columns]\n"
     ]
    }
   ],
   "source": [
    "regtable_base2 = regtable_base.copy()\n",
    "regtable_base2['type_code'] = regtable_base2['type_code'].apply(lambda x: int(x.replace('T','')))\n",
    "regtable_base2['free'] = regtable_base2['price'].apply(lambda x: 1 if x == 0 else 0)\n",
    "rearrange = ['appleid', 'type_code', 'date', 'timestamp',  \n",
    "             'span', 'price','free', 'payInApp', 'size',  'compatibility', 'contentRank', 'age', 'samepubappnum', \n",
    "             'app_m', 'app_v', 'apptype_m', 'apptype_v', 'gtype_m', 'gtype_v', 'game_m', 'game_v', 'rgame_m', 'rgame_v', 'rgtype_m', 'rgtype_v', 'type_ratio_m', 'type_ratio_v', \n",
    "             'g_app_m', 'g_app_v', 'g_apptype_m', 'g_apptype_v', 'g_gtype_m', 'g_gtype_v', 'g_game_m', 'g_game_v', 'g_rgame_m', 'g_rgame_v', 'g_rgtype_m', 'g_rgtype_v',\n",
    "             'active_num', 'cover_num', 'mau', 'coverage', \n",
    "             'diff_p_f', 'diff_p_max', 'diff_e_f', 'diff_e_max'\n",
    "            ]\n",
    "regtable_base2 = regtable_base2[rearrange]\n",
    "regtable_base3 = regtable_base2.dropna(subset=['diff_e_max']).drop(columns = ['diff_p_f', 'diff_p_max', 'diff_e_f'])\n",
    "print(regtable_base2.shape,'\\n',regtable_base2.head())"
   ]
  },
  {
   "cell_type": "code",
   "execution_count": 4,
   "metadata": {},
   "outputs": [],
   "source": [
    "regtable_base2.to_csv(r'D:\\documents\\data\\aso.niaoge\\forreg20190913\\regtable20191202_proto.csv', index = False)\n",
    "regtable_base3.to_csv(r'D:\\documents\\data\\aso.niaoge\\forreg20190913\\regtable20191202_exemplar.csv', index = False)"
   ]
  },
  {
   "cell_type": "markdown",
   "metadata": {},
   "source": [
    "# 接下来处理robust table里的type_code"
   ]
  },
  {
   "cell_type": "code",
   "execution_count": 5,
   "metadata": {},
   "outputs": [
    {
     "name": "stdout",
     "output_type": "stream",
     "text": [
      "(187144, 20) \n",
      "       appleid type_code      date   timestamp  diff_p_f  diff_p_max  price  \\\n",
      "0  1117273600   T200900  20170131  1485878400  0.951814    0.870415    0.0   \n",
      "1  1117273600   T200600  20170131  1485878400  0.951814    0.870415    0.0   \n",
      "2  1117273600   T200900  20170228  1488297600  0.946086    0.866075    0.0   \n",
      "3  1117273600   T200600  20170228  1488297600  0.946086    0.866075    0.0   \n",
      "4  1117273600   T200900  20170331  1490976000  0.945640    0.854021    0.0   \n",
      "\n",
      "   rdtimestamp   size  payInApp  compatibility  contentRank  samepubappnum  \\\n",
      "0   1467734400  531.0         1            7.0           12             11   \n",
      "1   1467734400  531.0         1            7.0           12             11   \n",
      "2   1467734400  531.0         1            7.0           12             11   \n",
      "3   1467734400  531.0         1            7.0           12             11   \n",
      "4   1467734400  531.0         1            7.0           12             11   \n",
      "\n",
      "        age  span  active_num  cover_num  user_num       mau  coverage  \n",
      "0  1.490411   2.0       449.0      519.0  373183.0  0.001203  0.001391  \n",
      "1  1.490411   2.0       449.0      519.0  373183.0  0.001203  0.001391  \n",
      "2  1.490411   2.0       403.0      458.0  345535.0  0.001166  0.001325  \n",
      "3  1.490411   2.0       403.0      458.0  345535.0  0.001166  0.001325  \n",
      "4  1.490411   2.0       404.0      456.0  339440.0  0.001190  0.001343  \n"
     ]
    }
   ],
   "source": [
    "regtable_robust = pd.read_csv(r'D:\\documents\\data\\aso.niaoge\\forreg20190913\\robust20190920.csv')\n",
    "print(regtable_robust.shape,'\\n', regtable_robust.head())"
   ]
  },
  {
   "cell_type": "code",
   "execution_count": 6,
   "metadata": {},
   "outputs": [
    {
     "name": "stdout",
     "output_type": "stream",
     "text": [
      "(187144, 20) \n",
      "       appleid  type_code      date   timestamp  diff_p_f  diff_p_max  price  \\\n",
      "0  1117273600     200900  20170131  1485878400  0.951814    0.870415    0.0   \n",
      "1  1117273600     200600  20170131  1485878400  0.951814    0.870415    0.0   \n",
      "2  1117273600     200900  20170228  1488297600  0.946086    0.866075    0.0   \n",
      "3  1117273600     200600  20170228  1488297600  0.946086    0.866075    0.0   \n",
      "4  1117273600     200900  20170331  1490976000  0.945640    0.854021    0.0   \n",
      "\n",
      "   rdtimestamp   size  payInApp  compatibility  contentRank  samepubappnum  \\\n",
      "0   1467734400  531.0         1            7.0           12             11   \n",
      "1   1467734400  531.0         1            7.0           12             11   \n",
      "2   1467734400  531.0         1            7.0           12             11   \n",
      "3   1467734400  531.0         1            7.0           12             11   \n",
      "4   1467734400  531.0         1            7.0           12             11   \n",
      "\n",
      "        age  span  active_num  cover_num  user_num       mau  coverage  \n",
      "0  1.490411   2.0       449.0      519.0  373183.0  0.001203  0.001391  \n",
      "1  1.490411   2.0       449.0      519.0  373183.0  0.001203  0.001391  \n",
      "2  1.490411   2.0       403.0      458.0  345535.0  0.001166  0.001325  \n",
      "3  1.490411   2.0       403.0      458.0  345535.0  0.001166  0.001325  \n",
      "4  1.490411   2.0       404.0      456.0  339440.0  0.001190  0.001343  \n"
     ]
    }
   ],
   "source": [
    "regtable_robust2 = regtable_robust.copy()\n",
    "regtable_robust2['type_code'] = regtable_robust2['type_code'].apply(lambda x: int(x.replace('T','')))\n",
    "rearrange_robust = ['appleid', 'type_code', 'date', 'timestamp',  \n",
    "             'span', 'price','free', 'payInApp', 'size',  'compatibility', 'contentRank', 'age', 'samepubappnum', \n",
    "             'app_m', 'app_v', 'apptype_m', 'apptype_v', 'gtype_m', 'gtype_v', 'game_m', 'game_v', 'rgame_m', 'rgame_v', 'rgtype_m', 'rgtype_v', 'type_ratio_m', 'type_ratio_v', \n",
    "             'g_app_m', 'g_app_v', 'g_apptype_m', 'g_apptype_v', 'g_gtype_m', 'g_gtype_v', 'g_game_m', 'g_game_v', 'g_rgame_m', 'g_rgame_v', 'g_rgtype_m', 'g_rgtype_v',\n",
    "             'active_num', 'cover_num', 'mau', 'coverage', \n",
    "             'diff_p_f'\n",
    "            ]\n",
    "print(regtable_robust2.shape,'\\n', regtable_robust2.head())"
   ]
  },
  {
   "cell_type": "code",
   "execution_count": 7,
   "metadata": {},
   "outputs": [],
   "source": [
    "regtable_robust2.to_csv(r'D:\\documents\\data\\aso.niaoge\\forreg20190913\\robust20191202.csv')"
   ]
  }
 ],
 "metadata": {
  "kernelspec": {
   "display_name": "Python 3",
   "language": "python",
   "name": "python3"
  },
  "language_info": {
   "codemirror_mode": {
    "name": "ipython",
    "version": 3
   },
   "file_extension": ".py",
   "mimetype": "text/x-python",
   "name": "python",
   "nbconvert_exporter": "python",
   "pygments_lexer": "ipython3",
   "version": "3.7.4"
  }
 },
 "nbformat": 4,
 "nbformat_minor": 2
}
