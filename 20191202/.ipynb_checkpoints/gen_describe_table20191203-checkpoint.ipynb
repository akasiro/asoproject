{
 "cells": [
  {
   "cell_type": "markdown",
   "metadata": {},
   "source": [
    "# gen describe table once again"
   ]
  },
  {
   "cell_type": "code",
   "execution_count": 1,
   "metadata": {},
   "outputs": [],
   "source": [
    "import pandas as pd\n",
    "import numpy as np\n",
    "import os, sys\n",
    "\n",
    "sys.path.append(r'D:\\documents\\code\\mycode\\stataforpaper20190828')\n",
    "from stataforpaper import *"
   ]
  },
  {
   "cell_type": "code",
   "execution_count": 3,
   "metadata": {},
   "outputs": [
    {
     "name": "stdout",
     "output_type": "stream",
     "text": [
      "(14293, 45) \n",
      " Index(['appleid', 'type_code', 'date', 'timestamp', 'span', 'price', 'free',\n",
      "       'payInApp', 'size', 'compatibility', 'contentRank', 'age',\n",
      "       'samepubappnum', 'app_m', 'app_v', 'apptype_m', 'apptype_v', 'gtype_m',\n",
      "       'gtype_v', 'game_m', 'game_v', 'rgame_m', 'rgame_v', 'rgtype_m',\n",
      "       'rgtype_v', 'type_ratio_m', 'type_ratio_v', 'g_app_m', 'g_app_v',\n",
      "       'g_apptype_m', 'g_apptype_v', 'g_gtype_m', 'g_gtype_v', 'g_game_m',\n",
      "       'g_game_v', 'g_rgame_m', 'g_rgame_v', 'g_rgtype_m', 'g_rgtype_v',\n",
      "       'active_num', 'cover_num', 'mau', 'coverage', 'diff_e_max', 'sizeGB'],\n",
      "      dtype='object')\n"
     ]
    }
   ],
   "source": [
    "datapath = r'D:\\documents\\data\\aso.niaoge\\forreg20190913\\regtable20191202_exemplar.csv'\n",
    "data_exemplar = pd.read_csv(datapath)\n",
    "data_exemplar['sizeGB'] = data_exemplar['size']/1024\n",
    "print(data_exemplar.shape, '\\n', data_exemplar.columns)"
   ]
  },
  {
   "cell_type": "code",
   "execution_count": 5,
   "metadata": {},
   "outputs": [],
   "source": [
    "de_descri = data_exemplar[['mau', 'coverage','diff_e_max','game_v','g_game_v',  'span', 'free','payInApp', 'sizeGB', 'compatibility', 'contentRank', 'age','samepubappnum']]\n",
    "outputpath = r'D:\\documents\\data\\aso.niaoge\\forreg20191202\\describe.xlsx'\n",
    "describeoutput(outputpath, de_descri.dropna(how = 'any'))"
   ]
  },
  {
   "cell_type": "code",
   "execution_count": null,
   "metadata": {},
   "outputs": [],
   "source": []
  }
 ],
 "metadata": {
  "kernelspec": {
   "display_name": "Python 3",
   "language": "python",
   "name": "python3"
  },
  "language_info": {
   "codemirror_mode": {
    "name": "ipython",
    "version": 3
   },
   "file_extension": ".py",
   "mimetype": "text/x-python",
   "name": "python",
   "nbconvert_exporter": "python",
   "pygments_lexer": "ipython3",
   "version": "3.7.4"
  }
 },
 "nbformat": 4,
 "nbformat_minor": 2
}
