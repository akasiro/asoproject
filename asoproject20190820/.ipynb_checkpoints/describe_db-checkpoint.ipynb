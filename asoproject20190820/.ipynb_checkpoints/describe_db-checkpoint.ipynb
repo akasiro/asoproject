{
 "cells": [
  {
   "cell_type": "code",
   "execution_count": 58,
   "metadata": {},
   "outputs": [],
   "source": [
    "import os,sqlite3,time,hashlib\n",
    "import pandas as pd"
   ]
  },
  {
   "cell_type": "code",
   "execution_count": 11,
   "metadata": {},
   "outputs": [],
   "source": [
    "pd.set_option('max_columns',1000) \n",
    "pd.set_option('max_row',300) "
   ]
  },
  {
   "cell_type": "code",
   "execution_count": 53,
   "metadata": {},
   "outputs": [],
   "source": [
    "conn = sqlite3.connect(r'D:\\documents\\data\\aso.niaoge\\20190723\\aso20190723.db')\n",
    "cur = conn.cursor()"
   ]
  },
  {
   "cell_type": "code",
   "execution_count": 62,
   "metadata": {},
   "outputs": [],
   "source": [
    "def insertlog(logtext):\n",
    "    hash_sha256 = hashlib.sha256()\n",
    "    hash_sha256.update(logtext.encode())\n",
    "    loghash = hash_sha256.hexdigest()\n",
    "    tempcmd = 'insert into changelog (loghash, date,log) values (?,?,?)'\n",
    "    cur.execute(tempcmd,(loghash, time.asctime(),logtext))\n",
    "    conn.commit()\n"
   ]
  },
  {
   "cell_type": "code",
   "execution_count": 63,
   "metadata": {},
   "outputs": [],
   "source": [
    "changelog_table_cmd = 'create table if not exists changelog (loghash varchar(100) primary key, date varchar(50) , log text)'\n",
    "try:\n",
    "    cur.execute(changelog_table_cmd)\n",
    "    conn.commit()\n",
    "except:\n",
    "    print('wrong in create table')"
   ]
  },
  {
   "cell_type": "code",
   "execution_count": 65,
   "metadata": {
    "scrolled": true
   },
   "outputs": [
    {
     "ename": "IntegrityError",
     "evalue": "UNIQUE constraint failed: changelog.loghash",
     "output_type": "error",
     "traceback": [
      "\u001b[1;31m---------------------------------------------------------------------------\u001b[0m",
      "\u001b[1;31mIntegrityError\u001b[0m                            Traceback (most recent call last)",
      "\u001b[1;32m<ipython-input-65-62add95bcc79>\u001b[0m in \u001b[0;36m<module>\u001b[1;34m\u001b[0m\n\u001b[0;32m      2\u001b[0m     \u001b[0mdescribedb\u001b[0m \u001b[1;33m=\u001b[0m \u001b[0mf\u001b[0m\u001b[1;33m.\u001b[0m\u001b[0mread\u001b[0m\u001b[1;33m(\u001b[0m\u001b[1;33m)\u001b[0m\u001b[1;33m\u001b[0m\u001b[1;33m\u001b[0m\u001b[0m\n\u001b[0;32m      3\u001b[0m \u001b[1;31m# print(describedb)\u001b[0m\u001b[1;33m\u001b[0m\u001b[1;33m\u001b[0m\u001b[1;33m\u001b[0m\u001b[0m\n\u001b[1;32m----> 4\u001b[1;33m \u001b[0minsertlog\u001b[0m\u001b[1;33m(\u001b[0m\u001b[0mdescribedb\u001b[0m\u001b[1;33m)\u001b[0m\u001b[1;33m\u001b[0m\u001b[1;33m\u001b[0m\u001b[0m\n\u001b[0m",
      "\u001b[1;32m<ipython-input-62-cbd88c5d81c4>\u001b[0m in \u001b[0;36minsertlog\u001b[1;34m(logtext)\u001b[0m\n\u001b[0;32m      4\u001b[0m     \u001b[0mloghash\u001b[0m \u001b[1;33m=\u001b[0m \u001b[0mhash_sha256\u001b[0m\u001b[1;33m.\u001b[0m\u001b[0mhexdigest\u001b[0m\u001b[1;33m(\u001b[0m\u001b[1;33m)\u001b[0m\u001b[1;33m\u001b[0m\u001b[1;33m\u001b[0m\u001b[0m\n\u001b[0;32m      5\u001b[0m     \u001b[0mtempcmd\u001b[0m \u001b[1;33m=\u001b[0m \u001b[1;34m'insert into changelog (loghash, date,log) values (?,?,?)'\u001b[0m\u001b[1;33m\u001b[0m\u001b[1;33m\u001b[0m\u001b[0m\n\u001b[1;32m----> 6\u001b[1;33m     \u001b[0mcur\u001b[0m\u001b[1;33m.\u001b[0m\u001b[0mexecute\u001b[0m\u001b[1;33m(\u001b[0m\u001b[0mtempcmd\u001b[0m\u001b[1;33m,\u001b[0m\u001b[1;33m(\u001b[0m\u001b[0mloghash\u001b[0m\u001b[1;33m,\u001b[0m \u001b[0mtime\u001b[0m\u001b[1;33m.\u001b[0m\u001b[0masctime\u001b[0m\u001b[1;33m(\u001b[0m\u001b[1;33m)\u001b[0m\u001b[1;33m,\u001b[0m\u001b[0mlogtext\u001b[0m\u001b[1;33m)\u001b[0m\u001b[1;33m)\u001b[0m\u001b[1;33m\u001b[0m\u001b[1;33m\u001b[0m\u001b[0m\n\u001b[0m\u001b[0;32m      7\u001b[0m     \u001b[0mconn\u001b[0m\u001b[1;33m.\u001b[0m\u001b[0mcommit\u001b[0m\u001b[1;33m(\u001b[0m\u001b[1;33m)\u001b[0m\u001b[1;33m\u001b[0m\u001b[1;33m\u001b[0m\u001b[0m\n",
      "\u001b[1;31mIntegrityError\u001b[0m: UNIQUE constraint failed: changelog.loghash"
     ]
    }
   ],
   "source": [
    "with open('describedb_aso20190723.txt','r') as f:\n",
    "    describedb = f.read()\n",
    "# print(describedb)\n",
    "insertlog(describedb)"
   ]
  },
  {
   "cell_type": "code",
   "execution_count": 50,
   "metadata": {},
   "outputs": [],
   "source": [
    "# sqlcmd\n",
    "baseinfo_cmd = 'select * from baseinfo'\n",
    "version_cmd = 'select * from version'\n",
    "pkgnameappid_cmd = 'select * from pkgname_appleid'\n",
    "gdptd_cmd = 'select * from game_demand_perf_td_20190820'\n",
    "cdtd_cmd = 'select * from category_demand_td_20190820'\n",
    "cdytd_cmd = 'select * from demand_category_year20190725_td_20190820'\n",
    "catd_cmd = 'select * from category_appleid_fromTDorigin'\n",
    "diff_cmd = 'select * from aso_diff20190724'"
   ]
  },
  {
   "cell_type": "code",
   "execution_count": 20,
   "metadata": {},
   "outputs": [],
   "source": [
    "def describdf(df):\n",
    "    print('表格形状：',df.shape)\n",
    "    for i in df.columns.tolist():\n",
    "        print(i , ' : ')\n",
    "    print(df.head(2))"
   ]
  },
  {
   "cell_type": "code",
   "execution_count": 21,
   "metadata": {
    "collapsed": true
   },
   "outputs": [
    {
     "name": "stdout",
     "output_type": "stream",
     "text": [
      "表格形状： (13088, 24)\n",
      "appleid  : \n",
      "appName  : \n",
      "appType  : \n",
      "price  : \n",
      "latestVersion  : \n",
      "developerFirm  : \n",
      "developer  : \n",
      "tags  : \n",
      "releaseDate  : \n",
      "lastestDate  : \n",
      "bundleId  : \n",
      "lastestVer  : \n",
      "size  : \n",
      "payInApp  : \n",
      "support  : \n",
      "compatibility  : \n",
      "lang  : \n",
      "contentRank  : \n",
      "artistname  : \n",
      "samepubappnum  : \n",
      "samepubapplist  : \n",
      "samepubapplistid  : \n",
      "introcontent  : \n",
      "rdtimestamp  : \n",
      "     appleid         appName appType   price latestVersion  \\\n",
      "0  281736535          Enigmo      游戏  ¥12.00    2017-11-17   \n",
      "1  284480400  Word Warp「已下架」      游戏   ¥6.00    2014-10-27   \n",
      "\n",
      "           developerFirm              developer             tags  releaseDate  \\\n",
      "0  Pangea Software, Inc.  Pangea Software, Inc.  游戏、智力游戏、娱乐、街机游戏  2008年07月11日   \n",
      "1                   None           MobilityWare     游戏、智力游戏、文字游戏  2008年07月11日   \n",
      "\n",
      "   lastestDate                   bundleId lastestVer      size payInApp  \\\n",
      "0  2017年11月17日          com.pangea.Enigmo        6.0  23.06 MB        是   \n",
      "1  2014年10月27日  com.mobilityware.WordWarp      3.2.2  13.65 MB        否   \n",
      "\n",
      "  support                                    compatibility lang contentRank  \\\n",
      "0    None  需要 iOS 8.0 或更高版本。与 iPhone、iPad 和 iPod touch 兼容。   英语          4+   \n",
      "1    None  需要 iOS 6.0 或更高版本。与 iPhone、iPad 和 iPod touch 兼容。   英语          4+   \n",
      "\n",
      "              artistname  samepubappnum  \\\n",
      "0  Pangea Software, Inc.             23   \n",
      "1           MobilityWare             31   \n",
      "\n",
      "                                      samepubapplist  \\\n",
      "0  PangeaVR HD|Air Wings Intergalactic|Air Wings®...   \n",
      "1  Apple Tree - Hangman For Kids|Blackjack - 赌场纸牌...   \n",
      "\n",
      "                                    samepubapplistid  \\\n",
      "0  373454824|590972134|496386846|298032129|288713...   \n",
      "1  287360275|289523017|289265443|288316716|291374...   \n",
      "\n",
      "                                        introcontent  rdtimestamp  \n",
      "0  •NETWORKEDMULTIPLAYERMODEWITHGAMECENTER!•Voted...   1215705600  \n",
      "1  “WordWarpismyfirstgo-togamewhenIfindmyselfouto...   1215705600  \n"
     ]
    }
   ],
   "source": [
    "bi = pd.read_sql(baseinfo_cmd, conn)\n",
    "describdf(bi)"
   ]
  },
  {
   "cell_type": "code",
   "execution_count": 25,
   "metadata": {},
   "outputs": [
    {
     "name": "stdout",
     "output_type": "stream",
     "text": [
      "表格形状： (106114, 7)\n",
      "appleid  : \n",
      "verDate  : \n",
      "timestamp  : \n",
      "versionTitle  : \n",
      "versionTitle2  : \n",
      "filename  : \n",
      "vercontent  : \n",
      "     appleid      verDate   timestamp versionTitle versionTitle2  \\\n",
      "0  500619796  2017年06月12日  1497196800        3.8.1        v3.8.1   \n",
      "1  500619796  2017年03月25日  1490371200        3.8.0        v3.8.0   \n",
      "\n",
      "              filename       vercontent  \n",
      "0  500619796v3_8_1.txt  1.bug修正2.游戏体验优化  \n",
      "1  500619796v3_8_0.txt  1.bug修正2.游戏体验优化  \n"
     ]
    }
   ],
   "source": [
    "ver = pd.read_sql(version_cmd,conn)\n",
    "describdf(ver)"
   ]
  },
  {
   "cell_type": "code",
   "execution_count": 27,
   "metadata": {},
   "outputs": [
    {
     "data": {
      "text/plain": [
       "12611"
      ]
     },
     "execution_count": 27,
     "metadata": {},
     "output_type": "execute_result"
    }
   ],
   "source": [
    "ver['appleid'].nunique()"
   ]
  },
  {
   "cell_type": "code",
   "execution_count": 29,
   "metadata": {},
   "outputs": [
    {
     "name": "stdout",
     "output_type": "stream",
     "text": [
      "表格形状： (8031, 5)\n",
      "type_code  : \n",
      "pkgName  : \n",
      "type  : \n",
      "qimaiId  : \n",
      "appleid  : \n",
      "  type_code                pkgName  type qimaiId       appleid\n",
      "0   T201300  a5game.cn.Feedingfish  休闲游戏    None  1.038552e+09\n",
      "1   T200500  a5game.leidian2_dx_5a  飞行游戏    None  9.974296e+08\n"
     ]
    }
   ],
   "source": [
    "pkgid = pd.read_sql(pkgnameappid_cmd,conn)\n",
    "describdf(pkgid)"
   ]
  },
  {
   "cell_type": "code",
   "execution_count": 31,
   "metadata": {},
   "outputs": [
    {
     "data": {
      "text/plain": [
       "1729"
      ]
     },
     "execution_count": 31,
     "metadata": {},
     "output_type": "execute_result"
    }
   ],
   "source": [
    " pkgid['appleid'].nunique()"
   ]
  },
  {
   "cell_type": "code",
   "execution_count": 35,
   "metadata": {},
   "outputs": [
    {
     "name": "stdout",
     "output_type": "stream",
     "text": [
      "表格形状： (85185, 24)\n",
      "datahash  : \n",
      "pkgName  : \n",
      "appHash  : \n",
      "id  : \n",
      "type  : \n",
      "type_code  : \n",
      "date  : \n",
      "user_num  : \n",
      "active_num  : \n",
      "cover_num  : \n",
      "mau  : \n",
      "coverage  : \n",
      "g_app_m  : \n",
      "g_app_v  : \n",
      "g_apptype_m  : \n",
      "g_apptype_v  : \n",
      "g_gtype_m  : \n",
      "g_gtype_v  : \n",
      "g_game_m  : \n",
      "g_game_v  : \n",
      "g_rgame_m  : \n",
      "g_rgame_v  : \n",
      "g_rgtype_m  : \n",
      "g_rgtype_v  : \n",
      "                                            datahash       pkgName  \\\n",
      "0  64214b3d7e9caefc42a4f8645d0c473eaca729ebdbc934...  air.AndBadao   \n",
      "1  a39e9a9f2f3d104c14c5ed4de35527988952d369fd2e13...  air.AndBadao   \n",
      "\n",
      "                appHash                id  type type_code      date  user_num  \\\n",
      "0  -2337508999300375635  YWlyLkFuZEJhZGFv  动作游戏   T200100  20170228    345535   \n",
      "1  -2337508999300375635  YWlyLkFuZEJhZGFv  动作游戏   T200100  20170331    339440   \n",
      "\n",
      "   active_num  cover_num       mau  coverage    g_app_m    g_app_v  \\\n",
      "0         1.0         11  0.000003  0.000032  16.181818  42.563636   \n",
      "1         NaN         15       NaN  0.000044  18.133333  79.695238   \n",
      "\n",
      "   g_apptype_m  g_apptype_v  g_gtype_m  g_gtype_v  g_game_m   g_game_v  \\\n",
      "0    37.090909   190.490909   3.727273   2.218182  6.090909  14.890909   \n",
      "1    71.400000  6598.542857   4.733333   3.352381  8.733333  23.780952   \n",
      "\n",
      "   g_rgame_m  g_rgame_v  g_rgtype_m  g_rgtype_v  \n",
      "0   0.165297   0.004816    0.247026    0.005313  \n",
      "1   0.224904   0.028949    0.327262    0.040178  \n"
     ]
    }
   ],
   "source": [
    "gdp = pd.read_sql(gdptd_cmd,conn)\n",
    "describdf(gdp)"
   ]
  },
  {
   "cell_type": "code",
   "execution_count": 36,
   "metadata": {},
   "outputs": [
    {
     "data": {
      "text/plain": [
       "8590"
      ]
     },
     "execution_count": 36,
     "metadata": {},
     "output_type": "execute_result"
    }
   ],
   "source": [
    "gdp['pkgName'].nunique()"
   ]
  },
  {
   "cell_type": "code",
   "execution_count": 38,
   "metadata": {},
   "outputs": [
    {
     "name": "stdout",
     "output_type": "stream",
     "text": [
      "表格形状： (264, 17)\n",
      "datahash  : \n",
      "type_code  : \n",
      "date  : \n",
      "app_m  : \n",
      "app_v  : \n",
      "apptype_m  : \n",
      "apptype_v  : \n",
      "gtype_m  : \n",
      "gtype_v  : \n",
      "game_m  : \n",
      "game_v  : \n",
      "rgame_m  : \n",
      "rgame_v  : \n",
      "rgtype_m  : \n",
      "rgtype_v  : \n",
      "type_ratio_m  : \n",
      "type_ratio_v  : \n",
      "                                            datahash type_code      date  \\\n",
      "0  e183d261af45ec840a29c5fcd06fb9d4b15d3fe15fba45...   T200100  20170131   \n",
      "1  7a0d7e5cfcd098174273247f29b4d0b1494505557e73e1...   T200200  20170131   \n",
      "\n",
      "       app_m       app_v  apptype_m    apptype_v   gtype_m   gtype_v  \\\n",
      "0  17.446539   72.917478  43.209772  1557.470566  4.382704  5.394237   \n",
      "1  20.021810  125.293308  49.889057  2699.840168  4.741427  8.144833   \n",
      "\n",
      "     game_m      game_v   rgame_m   rgame_v  rgtype_m  rgtype_v  type_ratio_m  \\\n",
      "0  7.025517   44.885675  0.185725  0.014252  0.284812  0.024223      0.305938   \n",
      "1  8.280005  108.861570  0.193531  0.019521  0.304918  0.042362      0.297513   \n",
      "\n",
      "   type_ratio_v  \n",
      "0      0.060972  \n",
      "1      0.081253  \n"
     ]
    }
   ],
   "source": [
    "cdtd = pd.read_sql(cdtd_cmd,conn)\n",
    "describdf(cdtd)"
   ]
  },
  {
   "cell_type": "code",
   "execution_count": 39,
   "metadata": {},
   "outputs": [
    {
     "data": {
      "text/plain": [
       "22"
      ]
     },
     "execution_count": 39,
     "metadata": {},
     "output_type": "execute_result"
    }
   ],
   "source": [
    "cdtd['type_code'].nunique()"
   ]
  },
  {
   "cell_type": "code",
   "execution_count": 42,
   "metadata": {},
   "outputs": [
    {
     "name": "stdout",
     "output_type": "stream",
     "text": [
      "表格形状： (22, 15)\n",
      "type_code  : \n",
      "app_m  : \n",
      "app_v  : \n",
      "apptype_m  : \n",
      "apptype_v  : \n",
      "gtype_m  : \n",
      "gtype_v  : \n",
      "game_m  : \n",
      "game_v  : \n",
      "rgame_m  : \n",
      "rgame_v  : \n",
      "rgtype_m  : \n",
      "rgtype_v  : \n",
      "type_ratio_m  : \n",
      "type_ratio_v  : \n",
      "  type_code      app_m       app_v  apptype_m    apptype_v   gtype_m  \\\n",
      "0   T200100  19.081742   89.279008  48.381780  2083.281898  4.371765   \n",
      "1   T200200  23.402431  140.108907  52.793368  2098.834732  4.191595   \n",
      "\n",
      "    gtype_v    game_m     game_v   rgame_m   rgame_v  rgtype_m  rgtype_v  \\\n",
      "0  5.292278  6.894455  38.736625  0.176658  0.013481  0.265556  0.022578   \n",
      "1  7.130470  6.979050  77.723994  0.158318  0.017303  0.246270  0.039095   \n",
      "\n",
      "   type_ratio_m  type_ratio_v  \n",
      "0      0.299222       0.05985  \n",
      "1      0.339843       0.08397  \n"
     ]
    }
   ],
   "source": [
    "cdytd = pd.read_sql(cdytd_cmd,conn)\n",
    "describdf(cdytd)"
   ]
  },
  {
   "cell_type": "code",
   "execution_count": 44,
   "metadata": {},
   "outputs": [
    {
     "name": "stdout",
     "output_type": "stream",
     "text": [
      "表格形状： (1820, 4)\n",
      "dataid  : \n",
      "type_code  : \n",
      "type  : \n",
      "appleid  : \n",
      "   dataid type_code  type     appleid\n",
      "0       1   T201300  休闲游戏  1038551692\n",
      "1       2   T200500  飞行游戏   997429574\n"
     ]
    }
   ],
   "source": [
    "catd = pd.read_sql(catd_cmd, conn)\n",
    "describdf(catd)"
   ]
  },
  {
   "cell_type": "code",
   "execution_count": 45,
   "metadata": {},
   "outputs": [
    {
     "data": {
      "text/plain": [
       "1729"
      ]
     },
     "execution_count": 45,
     "metadata": {},
     "output_type": "execute_result"
    }
   ],
   "source": [
    "catd['appleid'].nunique()"
   ]
  },
  {
   "cell_type": "code",
   "execution_count": 51,
   "metadata": {},
   "outputs": [
    {
     "name": "stdout",
     "output_type": "stream",
     "text": [
      "表格形状： (17046, 9)\n",
      "datahash  : \n",
      "appleid  : \n",
      "type_code  : \n",
      "date  : \n",
      "timestamp  : \n",
      "diff_p_f  : \n",
      "diff_p_max  : \n",
      "diff_e_f  : \n",
      "diff_e_max  : \n",
      "                                            datahash     appleid type_code  \\\n",
      "0  b78f042b143e4081f057af0c71afa2b0847f66d49cab2d...  1074628617   T200500   \n",
      "1  5d3c1d7a1504627af93637d9b950beb787e8bed14ea372...  1074628617   T200500   \n",
      "\n",
      "       date   timestamp  diff_p_f  diff_p_max  diff_e_f  diff_e_max  \n",
      "0  20170131  1485878400  0.934714    0.973451  0.999256    0.776210  \n",
      "1  20170228  1488297600  0.955028    0.973418  0.999275    0.776484  \n"
     ]
    }
   ],
   "source": [
    "diff = pd.read_sql(diff_cmd,conn)\n",
    "describdf(diff)"
   ]
  },
  {
   "cell_type": "code",
   "execution_count": null,
   "metadata": {},
   "outputs": [],
   "source": []
  }
 ],
 "metadata": {
  "kernelspec": {
   "display_name": "Python 3",
   "language": "python",
   "name": "python3"
  },
  "language_info": {
   "codemirror_mode": {
    "name": "ipython",
    "version": 3
   },
   "file_extension": ".py",
   "mimetype": "text/x-python",
   "name": "python",
   "nbconvert_exporter": "python",
   "pygments_lexer": "ipython3",
   "version": "3.7.4"
  }
 },
 "nbformat": 4,
 "nbformat_minor": 2
}
