{
 "cells": [
  {
   "cell_type": "code",
   "execution_count": 1,
   "metadata": {},
   "outputs": [
    {
     "name": "stdout",
     "output_type": "stream",
     "text": [
      "Overwriting dataprocess_diff20190913.py\n"
     ]
    }
   ],
   "source": [
    "%%writefile dataprocess_diff20190913.py\n",
    "\n",
    "import os,sqlite3,re,hashlib,time,joblib,sys\n",
    "import pandas as pd\n",
    "import numpy as np\n",
    "\n",
    "sys.path.append(r'/home/pi/Documents/pyproject/asocalsim20190719')\n",
    "from gen_simtable import aso_calsim\n",
    "\n",
    "\n",
    "# 路径\n",
    "datapath = os.path.join(r'/home/pi/Documents/data/asoproject/20190723')\n",
    "\n",
    "# tool\n",
    "def load_joblib(name):\n",
    "        with open(name + '.pkl', 'rb') as f:\n",
    "            return joblib.load(f)\n",
    "\n",
    "# 读取数据\n",
    "dict_intro = load_joblib(os.path.join(datapath,'dict_intro'))\n",
    "dict_ver = load_joblib(os.path.join(datapath,'dict_ver'))\n",
    "conn = sqlite3.connect(os.path.join(datapath,'aso20190723.db'))\n",
    "data1 = pd.read_sql('select appleid, rdtimestamp from baseinfo',conn)\n",
    "data2 = pd.read_sql('select appleid, timestamp,filename from version',conn)\n",
    "data = data1.merge(data2, on = 'appleid')\n",
    "df_type_id = pd.read_sql('select type_code,appleid from id_category20190913',conn)\n",
    "# 计算\n",
    "a = aso_calsim(data,df_type_id,dict_intro,dict_ver)\n",
    "result = a.gentfidftable()\n",
    "# 保存结果\n",
    "result.to_csv(os.path.join(r'/home/pi/Documents/data/asoproject/20190913','aso_diff20190913.csv'),index = False)\n",
    "print('Done')"
   ]
  },
  {
   "cell_type": "code",
   "execution_count": 2,
   "metadata": {},
   "outputs": [],
   "source": [
    "# %run dataprocess_diff20190913.py"
   ]
  },
  {
   "cell_type": "code",
   "execution_count": 3,
   "metadata": {},
   "outputs": [],
   "source": [
    "from toolfunc import *"
   ]
  },
  {
   "cell_type": "code",
   "execution_count": 4,
   "metadata": {},
   "outputs": [],
   "source": [
    "aso_diff20190913 = pd.read_csv(os.path.join(r'/home/pi/Documents/data/asoproject/20190913','aso_diff20190913.csv'))\n",
    "aso_diff20190913 = aso_diff20190913.drop(columns = 'Unnamed: 0')\n",
    "aso_diff20190913 = aso_diff20190913[['appleid','type_code','date','timestamp','diff_p_f','diff_p_max']]"
   ]
  },
  {
   "cell_type": "code",
   "execution_count": 5,
   "metadata": {},
   "outputs": [
    {
     "name": "stdout",
     "output_type": "stream",
     "text": [
      "aso_diff20190913 created\n",
      "complete insert\n"
     ]
    }
   ],
   "source": [
    "diff_vardict = {'datahash':'varchar(100) primary key',\n",
    "                 'appleid':'integer', \n",
    "                 'type_code':'varchar(20)',\n",
    "                 'date':'varchar(20)', \n",
    "                 'timestamp':'integer',\n",
    "                 'diff_p_f':'float', \n",
    "                 'diff_p_max':'float'}\n",
    "create_table('aso_diff20190913',diff_vardict)\n",
    "insert_data('aso_diff20190913',aso_diff20190913)"
   ]
  },
  {
   "cell_type": "code",
   "execution_count": 6,
   "metadata": {},
   "outputs": [],
   "source": [
    "with open(r'/home/pi/Documents/buffer/logtemp20190913.txt', 'r') as f:\n",
    "    temp = f.read()\n",
    "insertlog(temp)"
   ]
  },
  {
   "cell_type": "code",
   "execution_count": null,
   "metadata": {},
   "outputs": [],
   "source": []
  }
 ],
 "metadata": {
  "kernelspec": {
   "display_name": "Python 3",
   "language": "python",
   "name": "python3"
  },
  "language_info": {
   "codemirror_mode": {
    "name": "ipython",
    "version": 3
   },
   "file_extension": ".py",
   "mimetype": "text/x-python",
   "name": "python",
   "nbconvert_exporter": "python",
   "pygments_lexer": "ipython3",
   "version": "3.7.3"
  }
 },
 "nbformat": 4,
 "nbformat_minor": 2
}
