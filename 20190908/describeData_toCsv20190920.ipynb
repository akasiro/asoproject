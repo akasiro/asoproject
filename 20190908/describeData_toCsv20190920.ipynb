{
 "cells": [
  {
   "cell_type": "code",
   "execution_count": 1,
   "metadata": {},
   "outputs": [],
   "source": [
    "from datapath_tool import *\n",
    "\n",
    "sys.path.append(r'/home/pi/Documents/pyproject/stataforpaper20190828')\n",
    "from stataforpaper import *"
   ]
  },
  {
   "cell_type": "code",
   "execution_count": 2,
   "metadata": {
    "scrolled": true
   },
   "outputs": [
    {
     "name": "stdout",
     "output_type": "stream",
     "text": [
      "(15963, 48) \n",
      "       appleid type_code      date   timestamp  diff_p_f  diff_p_max  diff_e_f  \\\n",
      "0  1074628617   T200500  20170131  1485878400  0.934714    0.973451  0.999256   \n",
      "1  1027445769   T200500  20170131  1485878400  0.826628    0.951865  0.999433   \n",
      "2  1182272912   T200500  20170131  1485878400  0.906568    0.939965  0.999623   \n",
      "3   454802329   T200500  20170131  1485878400  0.793587    0.313163  0.999058   \n",
      "4   958024475   T200500  20170131  1485878400  0.867713    0.855861  0.978332   \n",
      "\n",
      "   diff_e_max  price  rdtimestamp    size  payInApp  compatibility  \\\n",
      "0    0.776210    0.0   1453651200  275.93         0            7.0   \n",
      "1    0.855624    0.0   1441123200  109.50         1            8.0   \n",
      "2    0.705356    0.0   1482422400  176.92         1            6.0   \n",
      "3    0.588596   68.0   1312905600  182.40         1            8.0   \n",
      "4    0.572557    0.0   1447603200  635.89         1            6.0   \n",
      "\n",
      "   contentRank  samepubappnum       age  span  active_num  cover_num  \\\n",
      "0            9             42  1.936986     1           4         29   \n",
      "1            4            156  2.334247     1           0         32   \n",
      "2            9             12  1.024658     1          11         58   \n",
      "3            4             18  6.400000     1           1         15   \n",
      "4           17            208  2.128767     1           0         10   \n",
      "\n",
      "   user_num       mau  coverage      app_m      app_v  apptype_m    apptype_v  \\\n",
      "0    373183  0.000011  0.000078  19.771155  78.147914  48.962644  2931.923231   \n",
      "1    373183  0.000000  0.000086  19.771155  78.147914  48.962644  2931.923231   \n",
      "2    373183  0.000029  0.000155  19.771155  78.147914  48.962644  2931.923231   \n",
      "3    373183  0.000003  0.000040  19.771155  78.147914  48.962644  2931.923231   \n",
      "4    373183  0.000000  0.000027  19.771155  78.147914  48.962644  2931.923231   \n",
      "\n",
      "    gtype_m  gtype_v    game_m      game_v   rgame_m   rgame_v  rgtype_m  \\\n",
      "0  5.159818  7.31331  8.673217  111.769414  0.193794  0.013211  0.287416   \n",
      "1  5.159818  7.31331  8.673217  111.769414  0.193794  0.013211  0.287416   \n",
      "2  5.159818  7.31331  8.673217  111.769414  0.193794  0.013211  0.287416   \n",
      "3  5.159818  7.31331  8.673217  111.769414  0.193794  0.013211  0.287416   \n",
      "4  5.159818  7.31331  8.673217  111.769414  0.193794  0.013211  0.287416   \n",
      "\n",
      "   rgtype_v  type_ratio_m  type_ratio_v    g_app_m    g_app_v  g_apptype_m  \\\n",
      "0  0.023793      0.243889       0.05551  18.413793  41.108374    59.000000   \n",
      "1  0.023793      0.243889       0.05551  18.093750  42.087702    72.781250   \n",
      "2  0.023793      0.243889       0.05551  21.931034  81.898154    67.758621   \n",
      "3  0.023793      0.243889       0.05551  18.733333  51.923810    42.866667   \n",
      "4  0.023793      0.243889       0.05551  23.000000  55.555556    56.800000   \n",
      "\n",
      "   g_apptype_v  g_gtype_m  g_gtype_v   g_game_m    g_game_v  g_rgame_m  \\\n",
      "0  1553.785714   6.862069   6.551724  13.034483   70.748768   0.237363   \n",
      "1  2854.240927   5.750000   5.354839  15.156250  109.490927   0.227892   \n",
      "2  2804.240534   6.517241  10.000044  14.465517  217.275261   0.206111   \n",
      "3   339.552381   5.066667   6.352381   7.866667   42.409524   0.174708   \n",
      "4   893.955556   6.700000   6.677778  14.500000  177.388889   0.245517   \n",
      "\n",
      "   g_rgame_v  g_rgtype_m  g_rgtype_v  \n",
      "0   0.011621    0.389029    0.015363  \n",
      "1   0.010250    0.326140    0.010026  \n",
      "2   0.011021    0.321090    0.020677  \n",
      "3   0.008964    0.274068    0.010776  \n",
      "4   0.017364    0.298065    0.007853  \n"
     ]
    }
   ],
   "source": [
    "regtable_cmd = 'select * from tableForReg_baseOnTdtype20190920'\n",
    "regtable = pd.read_sql(regtable_cmd,conn).drop(columns = ['datahash','appName','tags'])\n",
    "print(regtable.shape,'\\n',regtable.head())"
   ]
  },
  {
   "cell_type": "code",
   "execution_count": 3,
   "metadata": {},
   "outputs": [
    {
     "name": "stdout",
     "output_type": "stream",
     "text": [
      "(187144, 20) \n",
      "       appleid type_code      date   timestamp  diff_p_f  diff_p_max  price  \\\n",
      "0  1117273600   T200900  20170131  1485878400  0.951814    0.870415    0.0   \n",
      "1  1117273600   T200600  20170131  1485878400  0.951814    0.870415    0.0   \n",
      "2  1117273600   T200900  20170228  1488297600  0.946086    0.866075    0.0   \n",
      "3  1117273600   T200600  20170228  1488297600  0.946086    0.866075    0.0   \n",
      "4  1117273600   T200900  20170331  1490976000  0.945640    0.854021    0.0   \n",
      "\n",
      "   rdtimestamp   size  payInApp  compatibility  contentRank  samepubappnum  \\\n",
      "0   1467734400  531.0         1            7.0           12             11   \n",
      "1   1467734400  531.0         1            7.0           12             11   \n",
      "2   1467734400  531.0         1            7.0           12             11   \n",
      "3   1467734400  531.0         1            7.0           12             11   \n",
      "4   1467734400  531.0         1            7.0           12             11   \n",
      "\n",
      "        age  span  active_num  cover_num  user_num       mau  coverage  \n",
      "0  1.490411   2.0       449.0      519.0  373183.0  0.001203  0.001391  \n",
      "1  1.490411   2.0       449.0      519.0  373183.0  0.001203  0.001391  \n",
      "2  1.490411   2.0       403.0      458.0  345535.0  0.001166  0.001325  \n",
      "3  1.490411   2.0       403.0      458.0  345535.0  0.001166  0.001325  \n",
      "4  1.490411   2.0       404.0      456.0  339440.0  0.001190  0.001343  \n"
     ]
    }
   ],
   "source": [
    "robusttable_cmd = 'select * from tableForRobust_baseOnMytype20190920'\n",
    "robusttable = pd.read_sql(robusttable_cmd,conn).drop(columns = ['datahash','appName','tags'])\n",
    "print(robusttable.shape,'\\n',robusttable.head())"
   ]
  },
  {
   "cell_type": "code",
   "execution_count": 4,
   "metadata": {},
   "outputs": [],
   "source": [
    "# to_csv\n",
    "regtable.to_csv('/home/pi/Documents/data/asoproject/forreg20190913/regtable20190920.csv',index = False)\n",
    "robusttable.to_csv('/home/pi/Documents/data/asoproject/forreg20190913/robust20190920.csv',index = False)"
   ]
  },
  {
   "cell_type": "code",
   "execution_count": 9,
   "metadata": {},
   "outputs": [
    {
     "name": "stdout",
     "output_type": "stream",
     "text": [
      "['appleid', 'type_code', 'date', 'timestamp', 'diff_p_f', 'diff_p_max', 'diff_e_f', 'diff_e_max', 'price', 'rdtimestamp', 'size', 'payInApp', 'compatibility', 'contentRank', 'samepubappnum', 'age', 'span', 'active_num', 'cover_num', 'user_num', 'mau', 'coverage', 'app_m', 'app_v', 'apptype_m', 'apptype_v', 'gtype_m', 'gtype_v', 'game_m', 'game_v', 'rgame_m', 'rgame_v', 'rgtype_m', 'rgtype_v', 'type_ratio_m', 'type_ratio_v', 'g_app_m', 'g_app_v', 'g_apptype_m', 'g_apptype_v', 'g_gtype_m', 'g_gtype_v', 'g_game_m', 'g_game_v', 'g_rgame_m', 'g_rgame_v', 'g_rgtype_m', 'g_rgtype_v']\n"
     ]
    }
   ],
   "source": [
    "print(regtable.columns.tolist())"
   ]
  },
  {
   "cell_type": "code",
   "execution_count": 12,
   "metadata": {},
   "outputs": [],
   "source": [
    "# description\n",
    "col = ['diff_p_f', 'diff_p_max', 'diff_e_f', 'diff_e_max', 'price','size', 'payInApp', 'compatibility', 'contentRank', 'samepubappnum', 'age', 'span', 'active_num', 'cover_num','mau', 'coverage', 'app_m', 'app_v', 'apptype_m', 'apptype_v', 'gtype_m', 'gtype_v', 'game_m', 'game_v', 'rgame_m', 'rgame_v', 'rgtype_m', 'rgtype_v', 'type_ratio_m', 'type_ratio_v', 'g_app_m', 'g_app_v', 'g_apptype_m', 'g_apptype_v', 'g_gtype_m', 'g_gtype_v', 'g_game_m', 'g_game_v', 'g_rgame_m', 'g_rgame_v', 'g_rgtype_m', 'g_rgtype_v']\n",
    "describeoutput('/home/pi/Documents/data/asoproject/forreg20190913/describe.xlsx',regtable.dropna(how = 'any'),col =col)"
   ]
  },
  {
   "cell_type": "code",
   "execution_count": null,
   "metadata": {},
   "outputs": [],
   "source": []
  }
 ],
 "metadata": {
  "kernelspec": {
   "display_name": "Python 3",
   "language": "python",
   "name": "python3"
  },
  "language_info": {
   "codemirror_mode": {
    "name": "ipython",
    "version": 3
   },
   "file_extension": ".py",
   "mimetype": "text/x-python",
   "name": "python",
   "nbconvert_exporter": "python",
   "pygments_lexer": "ipython3",
   "version": "3.7.4"
  }
 },
 "nbformat": 4,
 "nbformat_minor": 2
}
