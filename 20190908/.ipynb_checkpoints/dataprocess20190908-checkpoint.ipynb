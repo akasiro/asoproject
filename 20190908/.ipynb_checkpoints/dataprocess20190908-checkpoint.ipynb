{
 "cells": [
  {
   "cell_type": "code",
   "execution_count": 23,
   "metadata": {},
   "outputs": [],
   "source": [
    "import os,sqlite3,re,hashlib,time\n",
    "import pandas as pd\n",
    "import numpy as np"
   ]
  },
  {
   "cell_type": "code",
   "execution_count": 2,
   "metadata": {},
   "outputs": [],
   "source": [
    "# setting\n",
    "pd.options.display.max_columns = None"
   ]
  },
  {
   "cell_type": "code",
   "execution_count": 3,
   "metadata": {},
   "outputs": [],
   "source": [
    "# 路径\n",
    "datapath = os.path.join(r'/home/pi/Documents/data/asoproject/20190723')\n",
    "dbpath = os.path.join(datapath,'aso20190723.db')\n",
    "conn = sqlite3.connect(dbpath)\n",
    "cur  = conn.cursor()"
   ]
  },
  {
   "cell_type": "code",
   "execution_count": 18,
   "metadata": {},
   "outputs": [],
   "source": [
    "# tool func\n",
    "def create_table(tablename,var_dict):\n",
    "    var_define = ','.join(['{} {}'.format(k,v) for k,v in var_dict.items()])\n",
    "    create_table_cmd = 'create table if not exists {} ({})'.format(tablename,var_define)\n",
    "    try:\n",
    "        cur.execute(create_table_cmd)\n",
    "        conn.commit()\n",
    "        print('{} created'.format(tablename))\n",
    "    except:\n",
    "        print('wrong in create {}'.format(tablename))\n",
    "def insert_data(tablename, df, datahashornot = True):\n",
    "    df_columns = df.columns.tolist()\n",
    "    if datahashornot:\n",
    "        hash_sha256 = hashlib.sha256()\n",
    "        insert_cmd = 'insert into {}(datahash,{}) values ({}?)'.format(tablename,','.join(df_columns),'?,'*(len(df_columns)))\n",
    "    else:\n",
    "        insert_cmd = 'insert into {}({}) values ({}?)'.format(tablename,','.join(df_columns),'?,'*(len(df_columns)-1))\n",
    "    for r in df.itertuples(index = False):\n",
    "        if datahashornot:\n",
    "            hash_sha256.update(str(tuple(r)).encode())\n",
    "            datahash = hash_sha256.hexdigest()\n",
    "            tempdata = (datahash,)+tuple(r)\n",
    "        else:\n",
    "            tempdata = tuple(r)\n",
    "        try:\n",
    "            cur.execute(insert_cmd,tempdata)\n",
    "            conn.commit()\n",
    "        except:\n",
    "            print('wrong')\n",
    "    print('complete insert')\n",
    "def insertlog(logtext):\n",
    "    tempcmd = 'insert into changelog (date,log) values (?,?)'\n",
    "    cur.execute(tempcmd,(time.asctime(),logtext))\n",
    "    conn.commit()"
   ]
  },
  {
   "cell_type": "code",
   "execution_count": 26,
   "metadata": {},
   "outputs": [
    {
     "name": "stdout",
     "output_type": "stream",
     "text": [
      "新增加bs_pkg_span20190912表\n",
      "Table:  bs_pkg_span20190912\n",
      "1. 数据标签：处理数据\n",
      "2. 数据来源：原始数据为baseinfo和pkgname_appleid\n",
      "2.1 代码地址：https://github.com/akasiro/asoproject.git中的dataprocess20190908.ipynb\n",
      "3. 数据描述：\n",
      "3.1. 数据简介:\n",
      "处理数据形成变量\n",
      "3.2. 样本数量：\n",
      "13088个appleid总共15861条数据*15个变量\n",
      "3.3. 变量描述：\n",
      "datahash：主键，数据哈希值\n",
      "appleid：游戏id\n",
      "appName：游戏名称\n",
      "price：游戏在AppStore售价，单位：元\n",
      "tags：游戏在AppStore分类\n",
      "rdtimestamp：发布日期时间戳，单位：秒\n",
      "size：游戏安装包大小，单位MB\n",
      "payInApp：是否有游戏内购服务，是为1，否为0\n",
      "compatibility：对iOS系统版本的兼容性，要求iOS的最低版本\n",
      "contentRank：内容评级，表示这款游戏最低年龄要求\n",
      "samepubappnum：同开发者游戏的数量\n",
      "age：游戏截止至2018年1月1日存续时间，单位：年\n",
      "type_code：talkingData给的分类的代码\n",
      "type：talkingData给的分类\n",
      "span：根据talkingData的分类该游戏跨了几类\n",
      "\n",
      "\n"
     ]
    }
   ],
   "source": [
    "# sql语句\n",
    "changelog_cmd = 'select * from changelog'\n",
    "\n",
    "# 读取\n",
    "changelog = pd.read_sql(changelog_cmd,conn)\n",
    "\n",
    "print(changelog.loc[1,'log'])"
   ]
  },
  {
   "cell_type": "markdown",
   "metadata": {},
   "source": [
    "# baseinfo"
   ]
  },
  {
   "cell_type": "code",
   "execution_count": 6,
   "metadata": {},
   "outputs": [
    {
     "name": "stdout",
     "output_type": "stream",
     "text": [
      "(13088, 24)\n",
      "Index(['appleid', 'appName', 'appType', 'price', 'latestVersion',\n",
      "       'developerFirm', 'developer', 'tags', 'releaseDate', 'lastestDate',\n",
      "       'bundleId', 'lastestVer', 'size', 'payInApp', 'support',\n",
      "       'compatibility', 'lang', 'contentRank', 'artistname', 'samepubappnum',\n",
      "       'samepubapplist', 'samepubapplistid', 'introcontent', 'rdtimestamp'],\n",
      "      dtype='object')\n"
     ]
    }
   ],
   "source": [
    "baseinfo_cmd = 'select * from baseinfo'\n",
    "baseinfo = pd.read_sql(baseinfo_cmd,conn)\n",
    "\n",
    "print(baseinfo.shape)\n",
    "print(baseinfo.columns)"
   ]
  },
  {
   "cell_type": "code",
   "execution_count": 7,
   "metadata": {},
   "outputs": [
    {
     "data": {
      "text/html": [
       "<div>\n",
       "<style scoped>\n",
       "    .dataframe tbody tr th:only-of-type {\n",
       "        vertical-align: middle;\n",
       "    }\n",
       "\n",
       "    .dataframe tbody tr th {\n",
       "        vertical-align: top;\n",
       "    }\n",
       "\n",
       "    .dataframe thead th {\n",
       "        text-align: right;\n",
       "    }\n",
       "</style>\n",
       "<table border=\"1\" class=\"dataframe\">\n",
       "  <thead>\n",
       "    <tr style=\"text-align: right;\">\n",
       "      <th></th>\n",
       "      <th>appleid</th>\n",
       "      <th>appName</th>\n",
       "      <th>appType</th>\n",
       "      <th>price</th>\n",
       "      <th>latestVersion</th>\n",
       "      <th>developerFirm</th>\n",
       "      <th>developer</th>\n",
       "      <th>tags</th>\n",
       "      <th>releaseDate</th>\n",
       "      <th>lastestDate</th>\n",
       "      <th>bundleId</th>\n",
       "      <th>lastestVer</th>\n",
       "      <th>size</th>\n",
       "      <th>payInApp</th>\n",
       "      <th>support</th>\n",
       "      <th>compatibility</th>\n",
       "      <th>lang</th>\n",
       "      <th>contentRank</th>\n",
       "      <th>artistname</th>\n",
       "      <th>samepubappnum</th>\n",
       "      <th>samepubapplist</th>\n",
       "      <th>samepubapplistid</th>\n",
       "      <th>introcontent</th>\n",
       "      <th>rdtimestamp</th>\n",
       "    </tr>\n",
       "  </thead>\n",
       "  <tbody>\n",
       "    <tr>\n",
       "      <td>0</td>\n",
       "      <td>281736535</td>\n",
       "      <td>Enigmo</td>\n",
       "      <td>游戏</td>\n",
       "      <td>¥12.00</td>\n",
       "      <td>2017-11-17</td>\n",
       "      <td>Pangea Software, Inc.</td>\n",
       "      <td>Pangea Software, Inc.</td>\n",
       "      <td>游戏、智力游戏、娱乐、街机游戏</td>\n",
       "      <td>2008年07月11日</td>\n",
       "      <td>2017年11月17日</td>\n",
       "      <td>com.pangea.Enigmo</td>\n",
       "      <td>6.0</td>\n",
       "      <td>23.06 MB</td>\n",
       "      <td>是</td>\n",
       "      <td>None</td>\n",
       "      <td>需要 iOS 8.0 或更高版本。与 iPhone、iPad 和 iPod touch 兼容。</td>\n",
       "      <td>英语</td>\n",
       "      <td>4+</td>\n",
       "      <td>Pangea Software, Inc.</td>\n",
       "      <td>23</td>\n",
       "      <td>PangeaVR HD|Air Wings Intergalactic|Air Wings®...</td>\n",
       "      <td>373454824|590972134|496386846|298032129|288713...</td>\n",
       "      <td>•NETWORKEDMULTIPLAYERMODEWITHGAMECENTER!•Voted...</td>\n",
       "      <td>1215705600</td>\n",
       "    </tr>\n",
       "    <tr>\n",
       "      <td>1</td>\n",
       "      <td>284480400</td>\n",
       "      <td>Word Warp「已下架」</td>\n",
       "      <td>游戏</td>\n",
       "      <td>¥6.00</td>\n",
       "      <td>2014-10-27</td>\n",
       "      <td>None</td>\n",
       "      <td>MobilityWare</td>\n",
       "      <td>游戏、智力游戏、文字游戏</td>\n",
       "      <td>2008年07月11日</td>\n",
       "      <td>2014年10月27日</td>\n",
       "      <td>com.mobilityware.WordWarp</td>\n",
       "      <td>3.2.2</td>\n",
       "      <td>13.65 MB</td>\n",
       "      <td>否</td>\n",
       "      <td>None</td>\n",
       "      <td>需要 iOS 6.0 或更高版本。与 iPhone、iPad 和 iPod touch 兼容。</td>\n",
       "      <td>英语</td>\n",
       "      <td>4+</td>\n",
       "      <td>MobilityWare</td>\n",
       "      <td>31</td>\n",
       "      <td>Apple Tree - Hangman For Kids|Blackjack - 赌场纸牌...</td>\n",
       "      <td>287360275|289523017|289265443|288316716|291374...</td>\n",
       "      <td>“WordWarpismyfirstgo-togamewhenIfindmyselfouto...</td>\n",
       "      <td>1215705600</td>\n",
       "    </tr>\n",
       "  </tbody>\n",
       "</table>\n",
       "</div>"
      ],
      "text/plain": [
       "     appleid         appName appType   price latestVersion  \\\n",
       "0  281736535          Enigmo      游戏  ¥12.00    2017-11-17   \n",
       "1  284480400  Word Warp「已下架」      游戏   ¥6.00    2014-10-27   \n",
       "\n",
       "           developerFirm              developer             tags  releaseDate  \\\n",
       "0  Pangea Software, Inc.  Pangea Software, Inc.  游戏、智力游戏、娱乐、街机游戏  2008年07月11日   \n",
       "1                   None           MobilityWare     游戏、智力游戏、文字游戏  2008年07月11日   \n",
       "\n",
       "   lastestDate                   bundleId lastestVer      size payInApp  \\\n",
       "0  2017年11月17日          com.pangea.Enigmo        6.0  23.06 MB        是   \n",
       "1  2014年10月27日  com.mobilityware.WordWarp      3.2.2  13.65 MB        否   \n",
       "\n",
       "  support                                    compatibility lang contentRank  \\\n",
       "0    None  需要 iOS 8.0 或更高版本。与 iPhone、iPad 和 iPod touch 兼容。   英语          4+   \n",
       "1    None  需要 iOS 6.0 或更高版本。与 iPhone、iPad 和 iPod touch 兼容。   英语          4+   \n",
       "\n",
       "              artistname  samepubappnum  \\\n",
       "0  Pangea Software, Inc.             23   \n",
       "1           MobilityWare             31   \n",
       "\n",
       "                                      samepubapplist  \\\n",
       "0  PangeaVR HD|Air Wings Intergalactic|Air Wings®...   \n",
       "1  Apple Tree - Hangman For Kids|Blackjack - 赌场纸牌...   \n",
       "\n",
       "                                    samepubapplistid  \\\n",
       "0  373454824|590972134|496386846|298032129|288713...   \n",
       "1  287360275|289523017|289265443|288316716|291374...   \n",
       "\n",
       "                                        introcontent  rdtimestamp  \n",
       "0  •NETWORKEDMULTIPLAYERMODEWITHGAMECENTER!•Voted...   1215705600  \n",
       "1  “WordWarpismyfirstgo-togamewhenIfindmyselfouto...   1215705600  "
      ]
     },
     "execution_count": 7,
     "metadata": {},
     "output_type": "execute_result"
    }
   ],
   "source": [
    "baseinfo.head(2)"
   ]
  },
  {
   "cell_type": "code",
   "execution_count": 8,
   "metadata": {},
   "outputs": [
    {
     "name": "stderr",
     "output_type": "stream",
     "text": [
      "/usr/lib/python3/dist-packages/ipykernel_launcher.py:11: SettingWithCopyWarning: \n",
      "A value is trying to be set on a copy of a slice from a DataFrame.\n",
      "Try using .loc[row_indexer,col_indexer] = value instead\n",
      "\n",
      "See the caveats in the documentation: http://pandas.pydata.org/pandas-docs/stable/user_guide/indexing.html#returning-a-view-versus-a-copy\n",
      "  # This is added back by InteractiveShellApp.init_path()\n",
      "/usr/lib/python3/dist-packages/ipykernel_launcher.py:22: SettingWithCopyWarning: \n",
      "A value is trying to be set on a copy of a slice from a DataFrame.\n",
      "Try using .loc[row_indexer,col_indexer] = value instead\n",
      "\n",
      "See the caveats in the documentation: http://pandas.pydata.org/pandas-docs/stable/user_guide/indexing.html#returning-a-view-versus-a-copy\n",
      "/usr/lib/python3/dist-packages/ipykernel_launcher.py:35: SettingWithCopyWarning: \n",
      "A value is trying to be set on a copy of a slice from a DataFrame.\n",
      "Try using .loc[row_indexer,col_indexer] = value instead\n",
      "\n",
      "See the caveats in the documentation: http://pandas.pydata.org/pandas-docs/stable/user_guide/indexing.html#returning-a-view-versus-a-copy\n",
      "/usr/lib/python3/dist-packages/ipykernel_launcher.py:48: SettingWithCopyWarning: \n",
      "A value is trying to be set on a copy of a slice from a DataFrame.\n",
      "Try using .loc[row_indexer,col_indexer] = value instead\n",
      "\n",
      "See the caveats in the documentation: http://pandas.pydata.org/pandas-docs/stable/user_guide/indexing.html#returning-a-view-versus-a-copy\n",
      "/usr/lib/python3/dist-packages/ipykernel_launcher.py:59: SettingWithCopyWarning: \n",
      "A value is trying to be set on a copy of a slice from a DataFrame.\n",
      "Try using .loc[row_indexer,col_indexer] = value instead\n",
      "\n",
      "See the caveats in the documentation: http://pandas.pydata.org/pandas-docs/stable/user_guide/indexing.html#returning-a-view-versus-a-copy\n",
      "/usr/lib/python3/dist-packages/ipykernel_launcher.py:67: SettingWithCopyWarning: \n",
      "A value is trying to be set on a copy of a slice from a DataFrame.\n",
      "Try using .loc[row_indexer,col_indexer] = value instead\n",
      "\n",
      "See the caveats in the documentation: http://pandas.pydata.org/pandas-docs/stable/user_guide/indexing.html#returning-a-view-versus-a-copy\n"
     ]
    }
   ],
   "source": [
    "select_col = ['appleid','appName','price','tags','rdtimestamp','size','payInApp','compatibility','contentRank','samepubappnum']\n",
    "baseinfo1 = baseinfo[select_col]\n",
    "\n",
    "def price_func(x):\n",
    "    if x == np.nan or type(x) == float:\n",
    "        return x\n",
    "    if '免费' in str(x):\n",
    "        return float(0)\n",
    "    else:\n",
    "        return float(re.sub(r'[^\\d.]+','',str(x)))\n",
    "baseinfo1['price'] = baseinfo1['price'].apply(price_func)\n",
    "\n",
    "def size_func(x):\n",
    "    if x == np.nan or type(x) == float:\n",
    "        return x\n",
    "    else:\n",
    "        temp = float(re.sub(r'[^\\d.]+','',x))\n",
    "        if temp == 0:\n",
    "            return np.nan\n",
    "        else:\n",
    "            return temp\n",
    "baseinfo1['size'] = baseinfo1['size'].apply(size_func)\n",
    "\n",
    "\n",
    "def payinapp_func(x):\n",
    "    if type(x) == float or type(x) == int or x == np.nan:\n",
    "        return x\n",
    "    x = str(x)\n",
    "    if '是' in x:\n",
    "        return 1\n",
    "    elif '否' in x:\n",
    "        return 0\n",
    "    else:\n",
    "        return np.nan\n",
    "baseinfo1['payInApp'] = baseinfo1['payInApp'].apply(payinapp_func)\n",
    "\n",
    "def contentrank_func(x):\n",
    "    if type(x) == int or x == np.nan:\n",
    "        return x\n",
    "    if x == None:\n",
    "        return np.nan\n",
    "    else:\n",
    "        temp = int(re.sub(r'[^\\d]+','',x))\n",
    "        if temp == 0:\n",
    "            return np.nan\n",
    "        else:\n",
    "            return temp\n",
    "baseinfo1['contentRank'] = baseinfo1['contentRank'].apply(contentrank_func)\n",
    "\n",
    "def compatibility_func(x):\n",
    "    if type(x) == float or x == np.nan:\n",
    "        return x\n",
    "    temp = re.search(r'IOS\\s*\\d.\\d',str(x).upper())\n",
    "    if temp:\n",
    "        t =  float(re.search(r'\\d.\\d',temp.group(0)).group(0))\n",
    "        return t\n",
    "    else:\n",
    "        return np.nan\n",
    "baseinfo1['compatibility'] = baseinfo1['compatibility'].apply(compatibility_func)\n",
    "\n",
    "def rdtime_func(x):\n",
    "    if x == np.nan:\n",
    "        return x\n",
    "    else:\n",
    "        temp = (1514736000 -x)/(60*60*24*365)\n",
    "        return temp\n",
    "baseinfo1['age'] = baseinfo1['rdtimestamp'].apply(rdtime_func)"
   ]
  },
  {
   "cell_type": "code",
   "execution_count": 9,
   "metadata": {},
   "outputs": [
    {
     "data": {
      "text/html": [
       "<div>\n",
       "<style scoped>\n",
       "    .dataframe tbody tr th:only-of-type {\n",
       "        vertical-align: middle;\n",
       "    }\n",
       "\n",
       "    .dataframe tbody tr th {\n",
       "        vertical-align: top;\n",
       "    }\n",
       "\n",
       "    .dataframe thead th {\n",
       "        text-align: right;\n",
       "    }\n",
       "</style>\n",
       "<table border=\"1\" class=\"dataframe\">\n",
       "  <thead>\n",
       "    <tr style=\"text-align: right;\">\n",
       "      <th></th>\n",
       "      <th>appleid</th>\n",
       "      <th>price</th>\n",
       "      <th>rdtimestamp</th>\n",
       "      <th>size</th>\n",
       "      <th>payInApp</th>\n",
       "      <th>compatibility</th>\n",
       "      <th>contentRank</th>\n",
       "      <th>samepubappnum</th>\n",
       "      <th>age</th>\n",
       "    </tr>\n",
       "  </thead>\n",
       "  <tbody>\n",
       "    <tr>\n",
       "      <td>count</td>\n",
       "      <td>1.308800e+04</td>\n",
       "      <td>13088.000000</td>\n",
       "      <td>1.308800e+04</td>\n",
       "      <td>12611.000000</td>\n",
       "      <td>13088.000000</td>\n",
       "      <td>12389.000000</td>\n",
       "      <td>12611.000000</td>\n",
       "      <td>13088.000000</td>\n",
       "      <td>13088.000000</td>\n",
       "    </tr>\n",
       "    <tr>\n",
       "      <td>mean</td>\n",
       "      <td>1.064744e+09</td>\n",
       "      <td>4.224786</td>\n",
       "      <td>1.458365e+09</td>\n",
       "      <td>222.744876</td>\n",
       "      <td>0.680394</td>\n",
       "      <td>6.965155</td>\n",
       "      <td>9.053763</td>\n",
       "      <td>36.761843</td>\n",
       "      <td>1.787500</td>\n",
       "    </tr>\n",
       "    <tr>\n",
       "      <td>std</td>\n",
       "      <td>2.354095e+08</td>\n",
       "      <td>24.481734</td>\n",
       "      <td>5.400590e+07</td>\n",
       "      <td>291.510542</td>\n",
       "      <td>0.466342</td>\n",
       "      <td>1.152540</td>\n",
       "      <td>4.574847</td>\n",
       "      <td>117.322480</td>\n",
       "      <td>1.712516</td>\n",
       "    </tr>\n",
       "    <tr>\n",
       "      <td>min</td>\n",
       "      <td>2.817365e+08</td>\n",
       "      <td>0.000000</td>\n",
       "      <td>1.215706e+09</td>\n",
       "      <td>0.060000</td>\n",
       "      <td>0.000000</td>\n",
       "      <td>2.200000</td>\n",
       "      <td>4.000000</td>\n",
       "      <td>0.000000</td>\n",
       "      <td>-1.430137</td>\n",
       "    </tr>\n",
       "    <tr>\n",
       "      <td>25%</td>\n",
       "      <td>9.990619e+08</td>\n",
       "      <td>0.000000</td>\n",
       "      <td>1.443024e+09</td>\n",
       "      <td>62.890000</td>\n",
       "      <td>0.000000</td>\n",
       "      <td>6.000000</td>\n",
       "      <td>4.000000</td>\n",
       "      <td>1.000000</td>\n",
       "      <td>0.676712</td>\n",
       "    </tr>\n",
       "    <tr>\n",
       "      <td>50%</td>\n",
       "      <td>1.163673e+09</td>\n",
       "      <td>0.000000</td>\n",
       "      <td>1.480522e+09</td>\n",
       "      <td>130.930000</td>\n",
       "      <td>1.000000</td>\n",
       "      <td>7.000000</td>\n",
       "      <td>9.000000</td>\n",
       "      <td>5.000000</td>\n",
       "      <td>1.084932</td>\n",
       "    </tr>\n",
       "    <tr>\n",
       "      <td>75%</td>\n",
       "      <td>1.219159e+09</td>\n",
       "      <td>1.000000</td>\n",
       "      <td>1.493395e+09</td>\n",
       "      <td>258.240000</td>\n",
       "      <td>1.000000</td>\n",
       "      <td>8.000000</td>\n",
       "      <td>12.000000</td>\n",
       "      <td>26.000000</td>\n",
       "      <td>2.273973</td>\n",
       "    </tr>\n",
       "    <tr>\n",
       "      <td>max</td>\n",
       "      <td>1.453470e+09</td>\n",
       "      <td>798.000000</td>\n",
       "      <td>1.559837e+09</td>\n",
       "      <td>2048.000000</td>\n",
       "      <td>1.000000</td>\n",
       "      <td>9.300000</td>\n",
       "      <td>17.000000</td>\n",
       "      <td>3253.000000</td>\n",
       "      <td>9.482192</td>\n",
       "    </tr>\n",
       "  </tbody>\n",
       "</table>\n",
       "</div>"
      ],
      "text/plain": [
       "            appleid         price   rdtimestamp          size      payInApp  \\\n",
       "count  1.308800e+04  13088.000000  1.308800e+04  12611.000000  13088.000000   \n",
       "mean   1.064744e+09      4.224786  1.458365e+09    222.744876      0.680394   \n",
       "std    2.354095e+08     24.481734  5.400590e+07    291.510542      0.466342   \n",
       "min    2.817365e+08      0.000000  1.215706e+09      0.060000      0.000000   \n",
       "25%    9.990619e+08      0.000000  1.443024e+09     62.890000      0.000000   \n",
       "50%    1.163673e+09      0.000000  1.480522e+09    130.930000      1.000000   \n",
       "75%    1.219159e+09      1.000000  1.493395e+09    258.240000      1.000000   \n",
       "max    1.453470e+09    798.000000  1.559837e+09   2048.000000      1.000000   \n",
       "\n",
       "       compatibility   contentRank  samepubappnum           age  \n",
       "count   12389.000000  12611.000000   13088.000000  13088.000000  \n",
       "mean        6.965155      9.053763      36.761843      1.787500  \n",
       "std         1.152540      4.574847     117.322480      1.712516  \n",
       "min         2.200000      4.000000       0.000000     -1.430137  \n",
       "25%         6.000000      4.000000       1.000000      0.676712  \n",
       "50%         7.000000      9.000000       5.000000      1.084932  \n",
       "75%         8.000000     12.000000      26.000000      2.273973  \n",
       "max         9.300000     17.000000    3253.000000      9.482192  "
      ]
     },
     "execution_count": 9,
     "metadata": {},
     "output_type": "execute_result"
    }
   ],
   "source": [
    "baseinfo1.describe()"
   ]
  },
  {
   "cell_type": "markdown",
   "metadata": {},
   "source": [
    "# pkgname_appleid"
   ]
  },
  {
   "cell_type": "code",
   "execution_count": 10,
   "metadata": {},
   "outputs": [
    {
     "name": "stdout",
     "output_type": "stream",
     "text": [
      "(8031, 5)\n",
      "Index(['type_code', 'pkgName', 'type', 'qimaiId', 'appleid'], dtype='object')\n"
     ]
    }
   ],
   "source": [
    "pkgname_appleid_cmd = 'select * from pkgname_appleid'\n",
    "pkgname_appleid = pd.read_sql(pkgname_appleid_cmd,conn)\n",
    "print(pkgname_appleid.shape)\n",
    "print(pkgname_appleid.columns)"
   ]
  },
  {
   "cell_type": "code",
   "execution_count": 11,
   "metadata": {},
   "outputs": [],
   "source": [
    "pkg = pkgname_appleid[['appleid','type_code','type']]"
   ]
  },
  {
   "cell_type": "code",
   "execution_count": 12,
   "metadata": {},
   "outputs": [
    {
     "name": "stdout",
     "output_type": "stream",
     "text": [
      "(15861, 13)\n",
      "Index(['appleid', 'appName', 'price', 'tags', 'rdtimestamp', 'size',\n",
      "       'payInApp', 'compatibility', 'contentRank', 'samepubappnum', 'age',\n",
      "       'type_code', 'type'],\n",
      "      dtype='object')\n"
     ]
    }
   ],
   "source": [
    "bs_pkg = baseinfo1.merge(pkg, on = 'appleid', how = 'left')\n",
    "print(bs_pkg.shape)\n",
    "print(bs_pkg.columns)"
   ]
  },
  {
   "cell_type": "code",
   "execution_count": 13,
   "metadata": {},
   "outputs": [],
   "source": [
    "bs_pkg_group = bs_pkg['type_code'].dropna().groupby(bs_pkg['appleid'])\n",
    "spanning = bs_pkg_group.agg([('span','nunique')])\n",
    "spanning = spanning.reset_index()"
   ]
  },
  {
   "cell_type": "code",
   "execution_count": 14,
   "metadata": {},
   "outputs": [
    {
     "name": "stdout",
     "output_type": "stream",
     "text": [
      "(15861, 14)\n",
      "Index(['appleid', 'appName', 'price', 'tags', 'rdtimestamp', 'size',\n",
      "       'payInApp', 'compatibility', 'contentRank', 'samepubappnum', 'age',\n",
      "       'type_code', 'type', 'span'],\n",
      "      dtype='object')\n"
     ]
    }
   ],
   "source": [
    "bs_pkg_span = bs_pkg.merge(spanning, on = 'appleid', how = 'left')\n",
    "print(bs_pkg_span.shape)\n",
    "print(bs_pkg_span.columns)"
   ]
  },
  {
   "cell_type": "code",
   "execution_count": 15,
   "metadata": {},
   "outputs": [
    {
     "data": {
      "text/html": [
       "<div>\n",
       "<style scoped>\n",
       "    .dataframe tbody tr th:only-of-type {\n",
       "        vertical-align: middle;\n",
       "    }\n",
       "\n",
       "    .dataframe tbody tr th {\n",
       "        vertical-align: top;\n",
       "    }\n",
       "\n",
       "    .dataframe thead th {\n",
       "        text-align: right;\n",
       "    }\n",
       "</style>\n",
       "<table border=\"1\" class=\"dataframe\">\n",
       "  <thead>\n",
       "    <tr style=\"text-align: right;\">\n",
       "      <th></th>\n",
       "      <th>appleid</th>\n",
       "      <th>appName</th>\n",
       "      <th>price</th>\n",
       "      <th>tags</th>\n",
       "      <th>rdtimestamp</th>\n",
       "      <th>size</th>\n",
       "      <th>payInApp</th>\n",
       "      <th>compatibility</th>\n",
       "      <th>contentRank</th>\n",
       "      <th>samepubappnum</th>\n",
       "      <th>age</th>\n",
       "      <th>type_code</th>\n",
       "      <th>type</th>\n",
       "      <th>span</th>\n",
       "    </tr>\n",
       "  </thead>\n",
       "  <tbody>\n",
       "    <tr>\n",
       "      <td>0</td>\n",
       "      <td>281736535</td>\n",
       "      <td>Enigmo</td>\n",
       "      <td>12.0</td>\n",
       "      <td>游戏、智力游戏、娱乐、街机游戏</td>\n",
       "      <td>1215705600</td>\n",
       "      <td>23.06</td>\n",
       "      <td>1</td>\n",
       "      <td>8.0</td>\n",
       "      <td>4.0</td>\n",
       "      <td>23</td>\n",
       "      <td>9.482192</td>\n",
       "      <td>T200200</td>\n",
       "      <td>冒险游戏</td>\n",
       "      <td>1.0</td>\n",
       "    </tr>\n",
       "    <tr>\n",
       "      <td>1</td>\n",
       "      <td>284480400</td>\n",
       "      <td>Word Warp「已下架」</td>\n",
       "      <td>6.0</td>\n",
       "      <td>游戏、智力游戏、文字游戏</td>\n",
       "      <td>1215705600</td>\n",
       "      <td>13.65</td>\n",
       "      <td>0</td>\n",
       "      <td>6.0</td>\n",
       "      <td>4.0</td>\n",
       "      <td>31</td>\n",
       "      <td>9.482192</td>\n",
       "      <td>NaN</td>\n",
       "      <td>NaN</td>\n",
       "      <td>NaN</td>\n",
       "    </tr>\n",
       "    <tr>\n",
       "      <td>2</td>\n",
       "      <td>284752907</td>\n",
       "      <td>Blackjack「已下架」</td>\n",
       "      <td>6.0</td>\n",
       "      <td>游戏、扑克牌游戏、娱乐场游戏</td>\n",
       "      <td>1215705600</td>\n",
       "      <td>51.03</td>\n",
       "      <td>1</td>\n",
       "      <td>6.0</td>\n",
       "      <td>4.0</td>\n",
       "      <td>31</td>\n",
       "      <td>9.482192</td>\n",
       "      <td>NaN</td>\n",
       "      <td>NaN</td>\n",
       "      <td>NaN</td>\n",
       "    </tr>\n",
       "    <tr>\n",
       "      <td>3</td>\n",
       "      <td>284911691</td>\n",
       "      <td>Dice「已下架」</td>\n",
       "      <td>6.0</td>\n",
       "      <td>游戏、娱乐、桌面游戏、骰子游戏</td>\n",
       "      <td>1215705600</td>\n",
       "      <td>NaN</td>\n",
       "      <td>0</td>\n",
       "      <td>NaN</td>\n",
       "      <td>NaN</td>\n",
       "      <td>0</td>\n",
       "      <td>9.482192</td>\n",
       "      <td>NaN</td>\n",
       "      <td>NaN</td>\n",
       "      <td>NaN</td>\n",
       "    </tr>\n",
       "    <tr>\n",
       "      <td>4</td>\n",
       "      <td>284943962</td>\n",
       "      <td>Moonlight Mahjong</td>\n",
       "      <td>6.0</td>\n",
       "      <td>游戏、智力游戏、桌面游戏</td>\n",
       "      <td>1215705600</td>\n",
       "      <td>48.20</td>\n",
       "      <td>0</td>\n",
       "      <td>NaN</td>\n",
       "      <td>4.0</td>\n",
       "      <td>7</td>\n",
       "      <td>9.482192</td>\n",
       "      <td>NaN</td>\n",
       "      <td>NaN</td>\n",
       "      <td>NaN</td>\n",
       "    </tr>\n",
       "  </tbody>\n",
       "</table>\n",
       "</div>"
      ],
      "text/plain": [
       "     appleid            appName  price             tags  rdtimestamp   size  \\\n",
       "0  281736535             Enigmo   12.0  游戏、智力游戏、娱乐、街机游戏   1215705600  23.06   \n",
       "1  284480400     Word Warp「已下架」    6.0     游戏、智力游戏、文字游戏   1215705600  13.65   \n",
       "2  284752907     Blackjack「已下架」    6.0   游戏、扑克牌游戏、娱乐场游戏   1215705600  51.03   \n",
       "3  284911691          Dice「已下架」    6.0  游戏、娱乐、桌面游戏、骰子游戏   1215705600    NaN   \n",
       "4  284943962  Moonlight Mahjong    6.0     游戏、智力游戏、桌面游戏   1215705600  48.20   \n",
       "\n",
       "   payInApp  compatibility  contentRank  samepubappnum       age type_code  \\\n",
       "0         1            8.0          4.0             23  9.482192   T200200   \n",
       "1         0            6.0          4.0             31  9.482192       NaN   \n",
       "2         1            6.0          4.0             31  9.482192       NaN   \n",
       "3         0            NaN          NaN              0  9.482192       NaN   \n",
       "4         0            NaN          4.0              7  9.482192       NaN   \n",
       "\n",
       "   type  span  \n",
       "0  冒险游戏   1.0  \n",
       "1   NaN   NaN  \n",
       "2   NaN   NaN  \n",
       "3   NaN   NaN  \n",
       "4   NaN   NaN  "
      ]
     },
     "execution_count": 15,
     "metadata": {},
     "output_type": "execute_result"
    }
   ],
   "source": [
    "bs_pkg_span.head()"
   ]
  },
  {
   "cell_type": "markdown",
   "metadata": {},
   "source": [
    "# 保存bs_pkg_span到数据库aso20190723.db"
   ]
  },
  {
   "cell_type": "code",
   "execution_count": 27,
   "metadata": {},
   "outputs": [],
   "source": [
    "# 建表\n",
    "bs_pkg_span_vardict = {'datahash':'varchar(100) primary key',\n",
    "                      'appleid':'integer',\n",
    "                      'appName': 'varchar(50)',\n",
    "                      'price':'float',\n",
    "                      'tags':'varchar(50)',\n",
    "                      'rdtimestamp':'integer',\n",
    "                      'size':'float',\n",
    "                      'payInApp':'integer',\n",
    "                      'compatibility':'float',\n",
    "                      'contentRank':'integer',\n",
    "                      'samepubappnum':'integer',\n",
    "                      'age':'float',\n",
    "                      'type_code':'varchar(20)',\n",
    "                      'type':'varchar(20)',\n",
    "                      'span':'integer'}\n",
    "# create_table('bs_pkg_span20190912',bs_pkg_span_vardict)\n",
    "# insert_data('bs_pkg_span20190912',bs_pkg_span)"
   ]
  },
  {
   "cell_type": "code",
   "execution_count": 17,
   "metadata": {
    "scrolled": true
   },
   "outputs": [
    {
     "name": "stdout",
     "output_type": "stream",
     "text": [
      "(15861, 15)\n",
      "Index(['datahash', 'appleid', 'appName', 'price', 'tags', 'rdtimestamp',\n",
      "       'size', 'payInApp', 'compatibility', 'contentRank', 'samepubappnum',\n",
      "       'age', 'type_code', 'type', 'span'],\n",
      "      dtype='object')\n",
      "            appleid         price   rdtimestamp          size      payInApp  \\\n",
      "count  1.586100e+04  15861.000000  1.586100e+04  15362.000000  15861.000000   \n",
      "mean   1.055149e+09      3.578400  1.456467e+09    263.461455      0.731858   \n",
      "std    2.314147e+08     22.339829  5.303448e+07    343.855434      0.443006   \n",
      "min    2.817365e+08      0.000000  1.215706e+09      0.060000      0.000000   \n",
      "25%    9.801324e+08      0.000000  1.439136e+09     69.207500      0.000000   \n",
      "50%    1.142531e+09      0.000000  1.477498e+09    145.450000      1.000000   \n",
      "75%    1.213766e+09      0.000000  1.492358e+09    303.347500      1.000000   \n",
      "max    1.453470e+09    798.000000  1.559837e+09   2048.000000      1.000000   \n",
      "\n",
      "       compatibility   contentRank  samepubappnum           age         span  \n",
      "count   15067.000000  15362.000000   15861.000000  15861.000000  4448.000000  \n",
      "mean        7.060516      9.047259      34.376710      1.847687     1.144110  \n",
      "std         1.142352      4.571216     107.671046      1.681712     0.395791  \n",
      "min         2.200000      4.000000       0.000000     -1.430137     1.000000  \n",
      "25%         6.000000      4.000000       1.000000      0.709589     1.000000  \n",
      "50%         7.000000      9.000000       6.000000      1.180822     1.000000  \n",
      "75%         8.000000     12.000000      27.000000      2.397260     1.000000  \n",
      "max         9.300000     17.000000    3253.000000      9.482192     3.000000  \n",
      "                                            datahash    appleid  \\\n",
      "0  c01f046282f84c5a3ba9a66db206ef7c920e40cf8cfd05...  281736535   \n",
      "1  4ab2dabbe8767486ab2602b3e5d9819fd561a8b035dcc6...  284480400   \n",
      "2  34b5b4290db444437a0b0214e8dab5e82bf06e92346f9f...  284752907   \n",
      "3  89a8564ac821de57733e83451bf95fe5aaaf0b0088e947...  284911691   \n",
      "4  172571dc8a1b82781758bc1a700fe02e716350647c828b...  284943962   \n",
      "\n",
      "             appName  price             tags  rdtimestamp   size  payInApp  \\\n",
      "0             Enigmo   12.0  游戏、智力游戏、娱乐、街机游戏   1215705600  23.06         1   \n",
      "1     Word Warp「已下架」    6.0     游戏、智力游戏、文字游戏   1215705600  13.65         0   \n",
      "2     Blackjack「已下架」    6.0   游戏、扑克牌游戏、娱乐场游戏   1215705600  51.03         1   \n",
      "3          Dice「已下架」    6.0  游戏、娱乐、桌面游戏、骰子游戏   1215705600    NaN         0   \n",
      "4  Moonlight Mahjong    6.0     游戏、智力游戏、桌面游戏   1215705600  48.20         0   \n",
      "\n",
      "   compatibility  contentRank  samepubappnum       age type_code  type  span  \n",
      "0            8.0          4.0             23  9.482192   T200200  冒险游戏   1.0  \n",
      "1            6.0          4.0             31  9.482192      None  None   NaN  \n",
      "2            6.0          4.0             31  9.482192      None  None   NaN  \n",
      "3            NaN          NaN              0  9.482192      None  None   NaN  \n",
      "4            NaN          4.0              7  9.482192      None  None   NaN  \n"
     ]
    }
   ],
   "source": [
    "# 校验插入\n",
    "bi_pkg_span_cmd = 'select * from bs_pkg_span20190912'\n",
    "test = pd.read_sql(bi_pkg_span_cmd,conn)\n",
    "print(test.shape)\n",
    "print(test.columns)\n",
    "print(test.describe())\n",
    "print(test.head())"
   ]
  },
  {
   "cell_type": "markdown",
   "metadata": {},
   "source": [
    "# 记录数据库更改日志"
   ]
  },
  {
   "cell_type": "code",
   "execution_count": 24,
   "metadata": {},
   "outputs": [],
   "source": [
    "with open('logtemp20190912.txt') as f:\n",
    "    changelog = f.read()\n",
    "#insertlog(changelog)"
   ]
  },
  {
   "cell_type": "markdown",
   "metadata": {},
   "source": [
    "# 处理不在talkingdata部分的样本"
   ]
  },
  {
   "cell_type": "markdown",
   "metadata": {},
   "source": [
    "## 筛选掉在2018年1月1日之后发布的游戏"
   ]
  },
  {
   "cell_type": "code",
   "execution_count": 30,
   "metadata": {},
   "outputs": [
    {
     "name": "stdout",
     "output_type": "stream",
     "text": [
      "(15808, 14)\n",
      "Index(['appleid', 'appName', 'price', 'tags', 'rdtimestamp', 'size',\n",
      "       'payInApp', 'compatibility', 'contentRank', 'samepubappnum', 'age',\n",
      "       'type_code', 'type', 'span'],\n",
      "      dtype='object')\n"
     ]
    }
   ],
   "source": [
    "bs_pkg_span1 = bs_pkg_span[bs_pkg_span['age']>0]\n",
    "print(bs_pkg_span1.shape)\n",
    "print(bs_pkg_span1.columns)"
   ]
  },
  {
   "cell_type": "markdown",
   "metadata": {},
   "source": [
    "## 给没在td里的分类"
   ]
  },
  {
   "cell_type": "code",
   "execution_count": 33,
   "metadata": {},
   "outputs": [
    {
     "name": "stdout",
     "output_type": "stream",
     "text": [
      "tagset: \n",
      "{'小游戏', '生活', '骰子游戏', '扑克牌游戏', '智力游戏', '商品指南', '新闻', '导航', '健康健美', '娱乐场游戏', '桌面游戏', '文字游戏', '体育', '美食佳饮', '教育', '财务', '报刊杂志', '教育游戏', '动作游戏', '购物', '摄影与录像', '图书', '医疗', '天气', '模拟游戏', '参考', '旅游', '娱乐', '商务', '游戏', '赛车游戏', '角色扮演游戏', '家庭游戏', '街机游戏', '音乐', '探险游戏', '工具', '社交', '效率', '策略游戏'}\n",
      "td type:\n",
      "{nan, '骰子游戏', '模拟经营', '智力游戏', '跑酷游戏', '娱乐场游戏', '桌面游戏', '文字游戏', '飞行游戏', '动作游戏', '休闲游戏', '音乐游戏', '角色扮演', '卡牌游戏', '射击游戏', '冒险游戏', '赛车游戏', '棋牌游戏', '街机游戏', '体育游戏', '策略游戏'}\n"
     ]
    }
   ],
   "source": [
    "tagset = set()\n",
    "for i in bs_pkg_span1['tags'].values:\n",
    "    temp = i.split('、')\n",
    "    for j in temp:\n",
    "        tagset.add(j)\n",
    "print('tagset: ')\n",
    "print(tagset)\n",
    "tdtypeset = set()\n",
    "for i in bs_pkg_span1['type'].unique():\n",
    "    tdtypeset.add(i)\n",
    "print('td type:')\n",
    "print(tdtypeset)"
   ]
  },
  {
   "cell_type": "code",
   "execution_count": 41,
   "metadata": {},
   "outputs": [
    {
     "name": "stdout",
     "output_type": "stream",
     "text": [
      "交集：\n",
      "{'娱乐场游戏', '桌面游戏', '文字游戏', '赛车游戏', '骰子游戏', '街机游戏', '智力游戏', '动作游戏', '策略游戏'}\n",
      "\n",
      "未被定义的：\n",
      "{'小游戏', '生活', '扑克牌游戏', '商品指南', '新闻', '导航', '健康健美', '体育', '美食佳饮', '教育', '财务', '报刊杂志', '教育游戏', '购物', '摄影与录像', '图书', '医疗', '天气', '模拟游戏', '参考', '旅游', '娱乐', '商务', '游戏', '角色扮演游戏', '家庭游戏', '音乐', '探险游戏', '工具', '社交', '效率'}\n",
      "\n",
      "未被用到的：\n",
      "{nan, '休闲游戏', '冒险游戏', '音乐游戏', '模拟经营', '棋牌游戏', '飞行游戏', '角色扮演', '卡牌游戏', '体育游戏', '跑酷游戏', '射击游戏'}\n",
      "\n"
     ]
    }
   ],
   "source": [
    "print('交集：\\n{}\\n'.format(tagset&tdtypeset))\n",
    "print('未被定义的：\\n{}\\n'.format(tagset-tdtypeset))\n",
    "print('未被用到的：\\n{}\\n'.format(tdtypeset-tagset))"
   ]
  },
  {
   "cell_type": "code",
   "execution_count": 76,
   "metadata": {},
   "outputs": [
    {
     "name": "stdout",
     "output_type": "stream",
     "text": [
      "异常检测：\n",
      "set()\n",
      "\n",
      "剩余检测：\n",
      "{'小游戏', '生活', '商品指南', '新闻', '导航', '健康健美', '美食佳饮', '教育', '财务', '报刊杂志', '教育游戏', '购物', '摄影与录像', '图书', '医疗', '天气', '参考', '旅游', '娱乐', '商务', '游戏', '工具', '社交', '效率'}\n",
      "\n"
     ]
    }
   ],
   "source": [
    "mapdict = {'骰子游戏':['骰子游戏'],\n",
    "           '模拟经营':['模拟游戏'],\n",
    "           '智力游戏':['智力游戏'],\n",
    "           '跑酷游戏':[],\n",
    "           '娱乐场游戏':['娱乐场游戏'],\n",
    "           '桌面游戏':['桌面游戏'],\n",
    "           '文字游戏':['文字游戏'],\n",
    "           '飞行游戏':[],\n",
    "           '动作游戏':['动作游戏'],\n",
    "           '休闲游戏':['家庭游戏'],\n",
    "           '音乐游戏':['音乐'],\n",
    "           '角色扮演':['角色扮演游戏'],\n",
    "           '卡牌游戏':['扑克牌游戏'],\n",
    "           '射击游戏':[],\n",
    "           '冒险游戏':['探险游戏'],\n",
    "           '赛车游戏':['赛车游戏'],\n",
    "           '棋牌游戏':['扑克牌游戏'],\n",
    "           '街机游戏':['街机游戏'],\n",
    "           '体育游戏':['体育'],\n",
    "           '策略游戏':['策略游戏']}\n",
    "tempset = set()\n",
    "for k in mapdict:\n",
    "    for i in mapdict[k]:\n",
    "        tempset.add(i)\n",
    "print('异常检测：\\n{}\\n'.format(tempset-tagset))\n",
    "print('剩余检测：\\n{}\\n'.format(tagset-tempset))"
   ]
  },
  {
   "cell_type": "code",
   "execution_count": 89,
   "metadata": {},
   "outputs": [
    {
     "name": "stdout",
     "output_type": "stream",
     "text": [
      "(24399, 2)\n",
      "12484\n"
     ]
    }
   ],
   "source": [
    "id_category = pd.DataFrame()\n",
    "bs = baseinfo1[['appleid','tags']]\n",
    "for r in bs.itertuples(index = False):\n",
    "    tmplist = set(getattr(r,'tags').split('、'))\n",
    "    for k,v in mapdict.items():\n",
    "        if len(tmplist&set(v)) > 0:\n",
    "            tmpdf = pd.DataFrame({'appleid':[getattr(r,'appleid')],'category0912':[k]})\n",
    "            id_category = id_category.append(tmpdf, ignore_index = False)\n",
    "print(id_category.shape)\n",
    "print(id_category['appleid'].nunique())"
   ]
  },
  {
   "cell_type": "code",
   "execution_count": 115,
   "metadata": {},
   "outputs": [
    {
     "name": "stdout",
     "output_type": "stream",
     "text": [
      "(24399, 3)\n",
      "     appleid category0912 type_code\n",
      "0  281736535         智力游戏   T201400\n",
      "1  281736535         街机游戏   T200700\n",
      "12484\n",
      "12484\n"
     ]
    }
   ],
   "source": [
    "# 增加type_code列\n",
    "id_category2 = id_category.merge(pkgname_appleid[['type','type_code']].drop_duplicates(),left_on ='category0912',right_on ='type',how = 'left' ).drop(columns = ['type'])\n",
    "print(id_category2.shape)\n",
    "print(id_category2.head(2))\n",
    "print(id_category2['appleid'].nunique())\n",
    "print(id_category['appleid'].nunique())"
   ]
  },
  {
   "cell_type": "code",
   "execution_count": 107,
   "metadata": {},
   "outputs": [
    {
     "name": "stdout",
     "output_type": "stream",
     "text": [
      "(21242, 3)\n",
      "     appleid category0912 type_code\n",
      "2  284480400         智力游戏   T201400\n",
      "3  284480400         文字游戏   T201500\n"
     ]
    }
   ],
   "source": [
    "# 去掉已经被td分好类的appleid\n",
    "id_category3 = id_category2[~id_category2['appleid'].isin(pkgname_appleid['appleid'].unique().tolist())]\n",
    "print(id_category3.shape)\n",
    "print(id_category3.head(2))"
   ]
  },
  {
   "cell_type": "code",
   "execution_count": 117,
   "metadata": {},
   "outputs": [
    {
     "name": "stdout",
     "output_type": "stream",
     "text": [
      "(4395, 3)\n",
      "      appleid category0912 type_code\n",
      "0   281736535         冒险游戏   T200200\n",
      "30  307751675         休闲游戏   T201300\n",
      "63  328992396         体育游戏   T201800\n",
      "87  342994828         休闲游戏   T201300\n",
      "88  342994828         棋牌游戏   T202000\n",
      "(22983, 3)\n",
      "     appleid category0912 type_code\n",
      "0  284480400         智力游戏   T201400\n",
      "1  284480400         文字游戏   T201500\n",
      "2  284752907        娱乐场游戏   T201000\n",
      "3  284752907         卡牌游戏   T200900\n",
      "4  284752907         棋牌游戏   T202000\n",
      "12541\n",
      "13063\n"
     ]
    }
   ],
   "source": [
    "# 将td的分类重新补进来\n",
    "td_appleid = bs_pkg_span1[['appleid','type','type_code']].rename(columns = {'type':'category0912'}).dropna(subset = ['type_code'])\n",
    "print(td_appleid.shape)\n",
    "print(td_appleid.head())\n",
    "id_category4 = id_category3.append(td_appleid, ignore_index = True).drop_duplicates()\n",
    "print(id_category4.shape)\n",
    "print(id_category4.head())\n",
    "print(id_category4['appleid'].nunique())\n",
    "print(bs_pkg_span1['appleid'].nunique())"
   ]
  },
  {
   "cell_type": "markdown",
   "metadata": {},
   "source": [
    "## 把id_category4存到数据库中"
   ]
  },
  {
   "cell_type": "code",
   "execution_count": 118,
   "metadata": {},
   "outputs": [
    {
     "name": "stdout",
     "output_type": "stream",
     "text": [
      "id_category20190913 created\n",
      "complete insert\n"
     ]
    }
   ],
   "source": [
    "id_category4_vardict = {'datahash':'varchar(100) primary key',\n",
    "                      'appleid':'integer',\n",
    "                       'category0912':'varchar(20)',\n",
    "                       'type_code':'varchar(20)'}\n",
    "create_table('id_category20190913',id_category4_vardict)\n",
    "insert_data('id_category20190913',id_category4)"
   ]
  },
  {
   "cell_type": "code",
   "execution_count": 120,
   "metadata": {},
   "outputs": [
    {
     "name": "stdout",
     "output_type": "stream",
     "text": [
      "新增加id_category20190913表\n",
      "Table:  id_category20190913\n",
      "1. 数据标签：处理数据\n",
      "2. 数据来源：原始数据为baseinfo和pkgname_appleid\n",
      "2.1 代码地址：https://github.com/akasiro/asoproject.git中的dataprocess20190908.ipynb\n",
      "3. 数据描述：\n",
      "3.1. 数据简介:\n",
      "处理数据形成变量，处理后只保留在2018年1月1日前发布的游戏\n",
      "3.2. 样本数量：\n",
      "12541个appleid总共22983条数据*3个变量\n",
      "3.3. 变量描述：\n",
      "datahash：主键，数据哈希值\n",
      "appleid：游戏id\n",
      "category0912：参考了TD的分类规则，根据baseinfo表中的tags来对未被td分类的游戏分类\n",
      "type_code：td的分类代码\n",
      "\n",
      "\n"
     ]
    }
   ],
   "source": [
    "with open('logtemp20190913.txt') as f:\n",
    "    changelog = f.read()\n",
    "print(changelog)\n",
    "insertlog(changelog)"
   ]
  },
  {
   "cell_type": "code",
   "execution_count": null,
   "metadata": {},
   "outputs": [],
   "source": []
  }
 ],
 "metadata": {
  "kernelspec": {
   "display_name": "Python 3",
   "language": "python",
   "name": "python3"
  },
  "language_info": {
   "codemirror_mode": {
    "name": "ipython",
    "version": 3
   },
   "file_extension": ".py",
   "mimetype": "text/x-python",
   "name": "python",
   "nbconvert_exporter": "python",
   "pygments_lexer": "ipython3",
   "version": "3.7.3"
  }
 },
 "nbformat": 4,
 "nbformat_minor": 2
}
