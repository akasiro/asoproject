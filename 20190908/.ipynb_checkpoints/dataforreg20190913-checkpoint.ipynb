{
 "cells": [
  {
   "cell_type": "code",
   "execution_count": 66,
   "metadata": {},
   "outputs": [],
   "source": [
    "from datapath_tool import *\n",
    "from toolfunc import *"
   ]
  },
  {
   "cell_type": "code",
   "execution_count": 9,
   "metadata": {},
   "outputs": [],
   "source": [
    "savedatapath = r'/home/pi/Documents/data/asoproject/forreg20190913'\n",
    "if not os.path.exists(savedatapath):\n",
    "    os.mkdir(savedatapath)"
   ]
  },
  {
   "cell_type": "markdown",
   "metadata": {},
   "source": [
    "# 1 生成两个回归用数据表\n",
    "* 第一个以td分类为准生成diff\n",
    "* 第二个以id_category20190913分类为准生成diff"
   ]
  },
  {
   "cell_type": "markdown",
   "metadata": {},
   "source": [
    "## 1.0 公用数据，需求数据"
   ]
  },
  {
   "cell_type": "code",
   "execution_count": 33,
   "metadata": {},
   "outputs": [
    {
     "name": "stdout",
     "output_type": "stream",
     "text": [
      "dc:\n",
      " (264, 16) \n",
      " Index(['type_code', 'date', 'app_m', 'app_v', 'apptype_m', 'apptype_v',\n",
      "       'gtype_m', 'gtype_v', 'game_m', 'game_v', 'rgame_m', 'rgame_v',\n",
      "       'rgtype_m', 'rgtype_v', 'type_ratio_m', 'type_ratio_v'],\n",
      "      dtype='object') \n",
      "   type_code      date      app_m       app_v  apptype_m    apptype_v  \\\n",
      "0   T200100  20170131  17.446539   72.917478  43.209772  1557.470566   \n",
      "1   T200200  20170131  20.021810  125.293308  49.889057  2699.840168   \n",
      "2   T200300  20170131  18.414923   76.163659  44.034374  1596.993089   \n",
      "3   T200400  20170131  17.779710   86.642816  47.669203  2066.743396   \n",
      "4   T200500  20170131  19.771155   78.147914  48.962644  2931.923231   \n",
      "\n",
      "    gtype_m   gtype_v    game_m      game_v   rgame_m   rgame_v  rgtype_m  \\\n",
      "0  4.382704  5.394237  7.025517   44.885675  0.185725  0.014252  0.284812   \n",
      "1  4.741427  8.144833  8.280005  108.861570  0.193531  0.019521  0.304918   \n",
      "2  4.647341  5.291457  7.451149   48.776628  0.189529  0.012930  0.286992   \n",
      "3  4.647585  6.497331  7.779046   69.139835  0.182508  0.015048  0.298401   \n",
      "4  5.159818  7.313310  8.673217  111.769414  0.193794  0.013211  0.287416   \n",
      "\n",
      "   rgtype_v  type_ratio_m  type_ratio_v  \n",
      "0  0.024223      0.305938      0.060972  \n",
      "1  0.042362      0.297513      0.081253  \n",
      "2  0.022955      0.265265      0.045402  \n",
      "3  0.026720      0.286697      0.062140  \n",
      "4  0.023793      0.243889      0.055510  \n"
     ]
    }
   ],
   "source": [
    "dc_cmd = 'select * from category_demand_td_20190820'\n",
    "\n",
    "\n",
    "dc = pd.read_sql(dc_cmd,conn).drop(columns = 'datahash')\n",
    "print('dc:\\n',dc.shape,'\\n',dc.columns,'\\n',dc.head())\n",
    "\n",
    "\n"
   ]
  },
  {
   "cell_type": "code",
   "execution_count": 20,
   "metadata": {},
   "outputs": [
    {
     "name": "stdout",
     "output_type": "stream",
     "text": [
      "dcgp\n",
      " (85185, 21) \n",
      " Index(['pkgName', 'type', 'type_code', 'date', 'user_num', 'active_num',\n",
      "       'cover_num', 'mau', 'coverage', 'g_app_m', 'g_app_v', 'g_apptype_m',\n",
      "       'g_apptype_v', 'g_gtype_m', 'g_gtype_v', 'g_game_m', 'g_game_v',\n",
      "       'g_rgame_m', 'g_rgame_v', 'g_rgtype_m', 'g_rgtype_v'],\n",
      "      dtype='object')\n",
      "pkgid\n",
      " (8031, 3)\n",
      "dcgpid\n",
      " (46338, 22) \n",
      " Index(['pkgName', 'type', 'type_code', 'date', 'user_num', 'active_num',\n",
      "       'cover_num', 'mau', 'coverage', 'g_app_m', 'g_app_v', 'g_apptype_m',\n",
      "       'g_apptype_v', 'g_gtype_m', 'g_gtype_v', 'g_game_m', 'g_game_v',\n",
      "       'g_rgame_m', 'g_rgame_v', 'g_rgtype_m', 'g_rgtype_v', 'appleid'],\n",
      "      dtype='object')\n"
     ]
    }
   ],
   "source": [
    "dcgp_cmd = 'select * from game_demand_perf_td_20190820'\n",
    "pkgid_cmd = 'select * from pkgname_appleid'\n",
    "dcgp = pd.read_sql(dcgp_cmd,conn).drop(columns = 'datahash').drop(columns = ['appHash','id'])\n",
    "pkgid = pd.read_sql(pkgid_cmd,conn)[['pkgName','type_code','appleid']]\n",
    "print('dcgp\\n', dcgp.shape,'\\n',dcgp.columns)\n",
    "print('pkgid\\n',pkgid.shape)\n",
    "dcgpid = dcgp.merge(pkgid,on = ['pkgName','type_code'], how = 'left').dropna(subset = ['appleid'])\n",
    "print('dcgpid\\n',dcgpid.shape,'\\n',dcgpid.columns)"
   ]
  },
  {
   "cell_type": "code",
   "execution_count": 26,
   "metadata": {},
   "outputs": [
    {
     "name": "stdout",
     "output_type": "stream",
     "text": [
      "perf:\n",
      "         appleid      date  active_num  cover_num\n",
      "36  953435594.0  20170228        19.0         97\n",
      "37  953435594.0  20170331        14.0         89\n",
      "38  953435594.0  20170430        22.0        116\n",
      "39  953435594.0  20170531        12.0        104\n",
      "40  953435594.0  20170630        21.0         92\n",
      "user_num:\n",
      " (12, 2) \n",
      "        date  user_num\n",
      "0  20170228    345535\n",
      "1  20170331    339440\n",
      "2  20170430    383981\n",
      "3  20170531    330104\n",
      "4  20170630    281469\n",
      "perf1:\n",
      " (18625, 4) \n",
      "    appleid      date  active_num  cover_num\n",
      "0  66204.0  20170131         3.0         36\n",
      "1  66204.0  20170228         0.0         31\n",
      "2  66204.0  20170331         2.0         29\n",
      "3  66204.0  20170430         1.0         20\n",
      "4  66204.0  20170531         2.0         23\n",
      "perf2:\n",
      " (18625, 7) \n",
      "        appleid      date  active_num  cover_num  user_num       mau  coverage\n",
      "0      66204.0  20170131         3.0         36    373183  0.000008  0.000096\n",
      "1    9223426.0  20170131        10.0         63    373183  0.000027  0.000169\n",
      "2  281736535.0  20170131        25.0         27    373183  0.000067  0.000072\n",
      "3  307751675.0  20170131         5.0          5    373183  0.000013  0.000013\n",
      "4  328992396.0  20170131        11.0         93    373183  0.000029  0.000249\n"
     ]
    }
   ],
   "source": [
    "perf = dcgpid[['appleid','date','active_num','cover_num']]\n",
    "print('perf:\\n',perf.head())\n",
    "user_num = dcgp[['date','user_num']].drop_duplicates()\n",
    "print('user_num:\\n',user_num.shape,'\\n',user_num.head())\n",
    "perfgroup = perf.groupby(['appleid','date'])\n",
    "perf1 = perfgroup.agg(sum).reset_index()\n",
    "print('perf1:\\n',perf1.shape,'\\n',perf1.head())\n",
    "perf2 = perf1.merge(user_num,on = 'date')\n",
    "perf2['mau'] = perf2['active_num']/perf2['user_num']\n",
    "perf2['coverage'] = perf2['cover_num']/perf2['user_num']\n",
    "print('perf2:\\n',perf2.shape,'\\n',perf2.head())"
   ]
  },
  {
   "cell_type": "code",
   "execution_count": 29,
   "metadata": {},
   "outputs": [
    {
     "name": "stdout",
     "output_type": "stream",
     "text": [
      "perf_appleid20190913 created\n",
      "complete insert\n"
     ]
    }
   ],
   "source": [
    "perf2_vardict = {'datahash': 'varchar(100) primary key',\n",
    "                 'appleid': 'integer',\n",
    "                'date':'varchar(20)',\n",
    "                'active_num':'integer',\n",
    "                'cover_num':'integer',\n",
    "                'user_num':'integer',\n",
    "                'mau':'float',\n",
    "                'coverage':'float'}\n",
    "create_table('perf_appleid20190913',perf2_vardict)\n",
    "insert_data('perf_appleid20190913',perf2)"
   ]
  },
  {
   "cell_type": "code",
   "execution_count": 30,
   "metadata": {},
   "outputs": [
    {
     "name": "stdout",
     "output_type": "stream",
     "text": [
      "dcgid\n",
      " (46338, 15) \n",
      "         appleid      date  cover_num    g_app_m     g_app_v  g_apptype_m  \\\n",
      "36  953435594.0  20170228         97  17.381443  131.821735    59.742268   \n",
      "37  953435594.0  20170331         89  16.292135   54.413687    42.078652   \n",
      "38  953435594.0  20170430        116  16.439655   96.596327    49.068966   \n",
      "39  953435594.0  20170531        104  16.009615   55.757188    39.846154   \n",
      "40  953435594.0  20170630         92  13.728261   33.145127    31.554348   \n",
      "\n",
      "     g_apptype_v  g_gtype_m  g_gtype_v   g_game_m     g_game_v  g_rgame_m  \\\n",
      "36  38975.714132   5.577320   7.246564  13.391753  1686.261598   0.244149   \n",
      "37   1010.527835   5.337079   5.407814   8.617978    31.329673   0.237631   \n",
      "38  18387.056072   5.431034   6.212594  11.698276   895.395127   0.248013   \n",
      "39    759.432412   5.298077   5.298637   9.259615    67.397965   0.248687   \n",
      "40    270.293717   4.673913   4.485905   7.326087    31.167224   0.240330   \n",
      "\n",
      "    g_rgame_v  g_rgtype_m  g_rgtype_v  \n",
      "36   0.015233    0.353053    0.017439  \n",
      "37   0.014327    0.353884    0.016597  \n",
      "38   0.013658    0.353578    0.015799  \n",
      "39   0.014933    0.357667    0.018139  \n",
      "40   0.013917    0.355585    0.014320  \n"
     ]
    },
    {
     "name": "stderr",
     "output_type": "stream",
     "text": [
      "/usr/lib/python3/dist-packages/ipykernel_launcher.py:5: SettingWithCopyWarning: \n",
      "A value is trying to be set on a copy of a slice from a DataFrame.\n",
      "Try using .loc[row_indexer,col_indexer] = value instead\n",
      "\n",
      "See the caveats in the documentation: http://pandas.pydata.org/pandas-docs/stable/user_guide/indexing.html#returning-a-view-versus-a-copy\n",
      "  \"\"\"\n"
     ]
    },
    {
     "name": "stdout",
     "output_type": "stream",
     "text": [
      "dcgid2\n",
      " (18625, 15) \n",
      "    appleid      date  cover_num    g_app_m     g_app_v  g_apptype_m  \\\n",
      "0  66204.0  20170131         36  19.666667   50.800000    71.500000   \n",
      "1  66204.0  20170228         31  19.870968   69.516129    74.290323   \n",
      "2  66204.0  20170331         29  19.103448   78.810345    69.689655   \n",
      "3  66204.0  20170430         20  20.800000   98.905263    92.550000   \n",
      "4  66204.0  20170531         23  22.043478  109.225296    84.521739   \n",
      "\n",
      "   g_apptype_v  g_gtype_m  g_gtype_v   g_game_m    g_game_v  g_rgame_m  \\\n",
      "0  1086.771429   4.861111   4.694444  13.972222  104.256349   0.191001   \n",
      "1  1827.079570   5.096774   5.623656  15.290323  140.612903   0.203084   \n",
      "2  1269.793103   5.103448   5.667488  14.862069  111.980296   0.221136   \n",
      "3  6923.102632   5.800000  10.589474  18.900000  501.042105   0.180027   \n",
      "4  4908.351779   4.695652   4.312253  13.478261   97.442688   0.184380   \n",
      "\n",
      "   g_rgame_v  g_rgtype_m  g_rgtype_v  \n",
      "0   0.008841    0.267497    0.012691  \n",
      "1   0.009561    0.282075    0.016977  \n",
      "2   0.013307    0.302501    0.024208  \n",
      "3   0.008890    0.308869    0.021980  \n",
      "4   0.011063    0.238261    0.013173  \n"
     ]
    }
   ],
   "source": [
    "dcgid = dcgpid[['appleid','date','cover_num','g_app_m', 'g_app_v', 'g_apptype_m','g_apptype_v', 'g_gtype_m', 'g_gtype_v', 'g_game_m', 'g_game_v','g_rgame_m', 'g_rgame_v', 'g_rgtype_m', 'g_rgtype_v']]\n",
    "print('dcgid\\n',dcgid.shape,'\\n',dcgid.head())\n",
    "demand_var = ['g_app_m', 'g_app_v', 'g_apptype_m','g_apptype_v', 'g_gtype_m', 'g_gtype_v', 'g_game_m', 'g_game_v','g_rgame_m', 'g_rgame_v', 'g_rgtype_m', 'g_rgtype_v']\n",
    "for i in demand_var:\n",
    "    dcgid[i] = dcgid[i]*dcgid['cover_num']\n",
    "dcgidgroup = dcgid.groupby(['appleid','date'])\n",
    "dcgid2 = dcgidgroup.agg(sum).reset_index()\n",
    "for i in demand_var:\n",
    "    dcgid2[i] = dcgid2[i]/dcgid2['cover_num']\n",
    "print('dcgid2\\n',dcgid2.shape,'\\n',dcgid2.head())"
   ]
  },
  {
   "cell_type": "code",
   "execution_count": 31,
   "metadata": {},
   "outputs": [
    {
     "name": "stdout",
     "output_type": "stream",
     "text": [
      "game_demand_appleid201909013 created\n",
      "complete insert\n"
     ]
    }
   ],
   "source": [
    "demand_game_level_vardict = {'datahash': 'varchar(100) primary key',\n",
    "                             'appleid': 'integer',\n",
    "                             'date':'varchar(20)',\n",
    "                             'cover_num':'integer',\n",
    "                             'g_app_m':'float',\n",
    "                             'g_app_v':'float',\n",
    "                             'g_apptype_m':'float',\n",
    "                             'g_apptype_v':'float',\n",
    "                             'g_gtype_m':'float',\n",
    "                             'g_gtype_v':'float',\n",
    "                             'g_game_m':'float',\n",
    "                             'g_game_v':'float',\n",
    "                             'g_rgame_m':'float',\n",
    "                             'g_rgame_v':'float',\n",
    "                             'g_rgtype_m':'float',\n",
    "                             'g_rgtype_v':'float'}\n",
    "create_table('game_demand_appleid201909013',demand_game_level_vardict)\n",
    "insert_data('game_demand_appleid201909013',dcgid2)"
   ]
  },
  {
   "cell_type": "code",
   "execution_count": 32,
   "metadata": {},
   "outputs": [],
   "source": [
    "# with open('/home/pi/Documents/buffer/logtemp20190917.txt','r') as f:\n",
    "#     insertlog(f.read())"
   ]
  },
  {
   "cell_type": "markdown",
   "metadata": {},
   "source": [
    "## 1.1 生成回归用表1，20190914reg1（基于td分类）"
   ]
  },
  {
   "cell_type": "code",
   "execution_count": 48,
   "metadata": {},
   "outputs": [
    {
     "name": "stdout",
     "output_type": "stream",
     "text": [
      "bs1:  (1675, 12)\n",
      "bs1:  Index(['appleid', 'appName', 'price', 'tags', 'rdtimestamp', 'size',\n",
      "       'payInApp', 'compatibility', 'contentRank', 'samepubappnum', 'age',\n",
      "       'span'],\n",
      "      dtype='object')\n",
      "diff1:  (17046, 8)\n",
      "diff1:  Index(['appleid', 'type_code', 'date', 'timestamp', 'diff_p_f', 'diff_p_max',\n",
      "       'diff_e_f', 'diff_e_max'],\n",
      "      dtype='object')\n"
     ]
    }
   ],
   "source": [
    "bs1_cmd = 'select * from bs_pkg_span20190912'\n",
    "diff1_cmd = 'select * from aso_diff20190724'\n",
    "bs1 = pd.read_sql(bs1_cmd,conn).drop(columns = 'datahash').dropna(subset = ['type_code']).drop(columns = ['type','type_code']).drop_duplicates()\n",
    "print('bs1: ',bs1.shape)\n",
    "print('bs1: ',bs1.columns)\n",
    "diff1 = pd.read_sql(diff1_cmd,conn).drop(columns = 'datahash')\n",
    "print('diff1: ',diff1.shape)\n",
    "print('diff1: ',diff1.columns)"
   ]
  },
  {
   "cell_type": "code",
   "execution_count": 52,
   "metadata": {},
   "outputs": [
    {
     "name": "stdout",
     "output_type": "stream",
     "text": [
      "(17046, 19) \n",
      "       appleid type_code      date   timestamp  diff_p_f  diff_p_max  diff_e_f  \\\n",
      "0  1074628617   T200500  20170131  1485878400  0.934714    0.973451  0.999256   \n",
      "1  1074628617   T200500  20170228  1488297600  0.955028    0.973418  0.999275   \n",
      "2  1074628617   T200500  20170331  1490976000  0.962168    0.973429  0.999296   \n",
      "3  1074628617   T200500  20170430  1493568000  0.964610    0.973497  0.999315   \n",
      "4  1074628617   T200500  20170531  1496246400  0.963915    0.973585  0.999334   \n",
      "\n",
      "   diff_e_max                       appName  price          tags  rdtimestamp  \\\n",
      "0    0.776210  LEGO® Ninjago: Skybound「已下架」    0.0  游戏、动作游戏、探险游戏   1453651200   \n",
      "1    0.776484  LEGO® Ninjago: Skybound「已下架」    0.0  游戏、动作游戏、探险游戏   1453651200   \n",
      "2    0.776747  LEGO® Ninjago: Skybound「已下架」    0.0  游戏、动作游戏、探险游戏   1453651200   \n",
      "3    0.777052  LEGO® Ninjago: Skybound「已下架」    0.0  游戏、动作游戏、探险游戏   1453651200   \n",
      "4    0.777343  LEGO® Ninjago: Skybound「已下架」    0.0  游戏、动作游戏、探险游戏   1453651200   \n",
      "\n",
      "     size  payInApp  compatibility  contentRank  samepubappnum       age  span  \n",
      "0  275.93         0            7.0          9.0             42  1.936986   1.0  \n",
      "1  275.93         0            7.0          9.0             42  1.936986   1.0  \n",
      "2  275.93         0            7.0          9.0             42  1.936986   1.0  \n",
      "3  275.93         0            7.0          9.0             42  1.936986   1.0  \n",
      "4  275.93         0            7.0          9.0             42  1.936986   1.0  \n"
     ]
    }
   ],
   "source": [
    "bs1_diff1 = diff1.merge(bs1, on = 'appleid',how = 'inner')\n",
    "print(bs1_diff1.shape,'\\n',bs1_diff1.head())"
   ]
  },
  {
   "cell_type": "code",
   "execution_count": 57,
   "metadata": {},
   "outputs": [
    {
     "name": "stdout",
     "output_type": "stream",
     "text": [
      "bs1_diff1_perf2\n",
      " (15963, 24) \n",
      "       appleid type_code      date   timestamp  diff_p_f  diff_p_max  diff_e_f  \\\n",
      "0  1074628617   T200500  20170131  1485878400  0.934714    0.973451  0.999256   \n",
      "1  1074628617   T200500  20170228  1488297600  0.955028    0.973418  0.999275   \n",
      "2  1074628617   T200500  20170331  1490976000  0.962168    0.973429  0.999296   \n",
      "3  1074628617   T200500  20170430  1493568000  0.964610    0.973497  0.999315   \n",
      "4  1074628617   T200500  20170531  1496246400  0.963915    0.973585  0.999334   \n",
      "\n",
      "   diff_e_max                       appName  price          tags  rdtimestamp  \\\n",
      "0    0.776210  LEGO® Ninjago: Skybound「已下架」    0.0  游戏、动作游戏、探险游戏   1453651200   \n",
      "1    0.776484  LEGO® Ninjago: Skybound「已下架」    0.0  游戏、动作游戏、探险游戏   1453651200   \n",
      "2    0.776747  LEGO® Ninjago: Skybound「已下架」    0.0  游戏、动作游戏、探险游戏   1453651200   \n",
      "3    0.777052  LEGO® Ninjago: Skybound「已下架」    0.0  游戏、动作游戏、探险游戏   1453651200   \n",
      "4    0.777343  LEGO® Ninjago: Skybound「已下架」    0.0  游戏、动作游戏、探险游戏   1453651200   \n",
      "\n",
      "     size  payInApp  compatibility  contentRank  samepubappnum       age  \\\n",
      "0  275.93         0            7.0          9.0             42  1.936986   \n",
      "1  275.93         0            7.0          9.0             42  1.936986   \n",
      "2  275.93         0            7.0          9.0             42  1.936986   \n",
      "3  275.93         0            7.0          9.0             42  1.936986   \n",
      "4  275.93         0            7.0          9.0             42  1.936986   \n",
      "\n",
      "   span  active_num  cover_num  user_num       mau  coverage  \n",
      "0   1.0         4.0         29    373183  0.000011  0.000078  \n",
      "1   1.0         6.0         61    345535  0.000017  0.000177  \n",
      "2   1.0         3.0         24    339440  0.000009  0.000071  \n",
      "3   1.0         1.0         30    383981  0.000003  0.000078  \n",
      "4   1.0         1.0         21    330104  0.000003  0.000064  \n",
      "bs1_diff1_perf2_dc\n",
      " (15963, 38) \n",
      "       appleid type_code      date   timestamp  diff_p_f  diff_p_max  diff_e_f  \\\n",
      "0  1074628617   T200500  20170131  1485878400  0.934714    0.973451  0.999256   \n",
      "1  1027445769   T200500  20170131  1485878400  0.826628    0.951865  0.999433   \n",
      "2  1182272912   T200500  20170131  1485878400  0.906568    0.939965  0.999623   \n",
      "3   454802329   T200500  20170131  1485878400  0.793587    0.313163  0.999058   \n",
      "4   958024475   T200500  20170131  1485878400  0.867713    0.855861  0.978332   \n",
      "\n",
      "   diff_e_max                       appName  price               tags  \\\n",
      "0    0.776210  LEGO® Ninjago: Skybound「已下架」    0.0       游戏、动作游戏、探险游戏   \n",
      "1    0.855624                          糖糖机场    0.0  教育、游戏、家庭游戏、角色扮演游戏   \n",
      "2    0.705356               飞机大作战-汽车大逃杀官方续作    0.0       游戏、街机游戏、动作游戏   \n",
      "3    0.588596           F18 Carrier Landing   68.0    游戏、娱乐、模拟游戏、动作游戏   \n",
      "4    0.572557                   驯龙战机3D「已下架」    0.0                 游戏   \n",
      "\n",
      "   rdtimestamp    size  payInApp  compatibility  contentRank  samepubappnum  \\\n",
      "0   1453651200  275.93         0            7.0          9.0             42   \n",
      "1   1441123200  109.50         1            8.0          4.0            156   \n",
      "2   1482422400  176.92         1            6.0          9.0             12   \n",
      "3   1312905600  182.40         1            8.0          4.0             18   \n",
      "4   1447603200  635.89         1            6.0         17.0            208   \n",
      "\n",
      "        age  span  active_num  cover_num  user_num       mau  coverage  \\\n",
      "0  1.936986   1.0         4.0         29    373183  0.000011  0.000078   \n",
      "1  2.334247   1.0         0.0         32    373183  0.000000  0.000086   \n",
      "2  1.024658   1.0        11.0         58    373183  0.000029  0.000155   \n",
      "3  6.400000   1.0         1.0         15    373183  0.000003  0.000040   \n",
      "4  2.128767   1.0         0.0         10    373183  0.000000  0.000027   \n",
      "\n",
      "       app_m      app_v  apptype_m    apptype_v   gtype_m  gtype_v    game_m  \\\n",
      "0  19.771155  78.147914  48.962644  2931.923231  5.159818  7.31331  8.673217   \n",
      "1  19.771155  78.147914  48.962644  2931.923231  5.159818  7.31331  8.673217   \n",
      "2  19.771155  78.147914  48.962644  2931.923231  5.159818  7.31331  8.673217   \n",
      "3  19.771155  78.147914  48.962644  2931.923231  5.159818  7.31331  8.673217   \n",
      "4  19.771155  78.147914  48.962644  2931.923231  5.159818  7.31331  8.673217   \n",
      "\n",
      "       game_v   rgame_m   rgame_v  rgtype_m  rgtype_v  type_ratio_m  \\\n",
      "0  111.769414  0.193794  0.013211  0.287416  0.023793      0.243889   \n",
      "1  111.769414  0.193794  0.013211  0.287416  0.023793      0.243889   \n",
      "2  111.769414  0.193794  0.013211  0.287416  0.023793      0.243889   \n",
      "3  111.769414  0.193794  0.013211  0.287416  0.023793      0.243889   \n",
      "4  111.769414  0.193794  0.013211  0.287416  0.023793      0.243889   \n",
      "\n",
      "   type_ratio_v  \n",
      "0       0.05551  \n",
      "1       0.05551  \n",
      "2       0.05551  \n",
      "3       0.05551  \n",
      "4       0.05551  \n",
      "bs1_diff1_perf2_dc_dcgid2\n",
      " (15963, 50) \n",
      "       appleid type_code      date   timestamp  diff_p_f  diff_p_max  diff_e_f  \\\n",
      "0  1074628617   T200500  20170131  1485878400  0.934714    0.973451  0.999256   \n",
      "1  1027445769   T200500  20170131  1485878400  0.826628    0.951865  0.999433   \n",
      "2  1182272912   T200500  20170131  1485878400  0.906568    0.939965  0.999623   \n",
      "3   454802329   T200500  20170131  1485878400  0.793587    0.313163  0.999058   \n",
      "4   958024475   T200500  20170131  1485878400  0.867713    0.855861  0.978332   \n",
      "\n",
      "   diff_e_max                       appName  price               tags  \\\n",
      "0    0.776210  LEGO® Ninjago: Skybound「已下架」    0.0       游戏、动作游戏、探险游戏   \n",
      "1    0.855624                          糖糖机场    0.0  教育、游戏、家庭游戏、角色扮演游戏   \n",
      "2    0.705356               飞机大作战-汽车大逃杀官方续作    0.0       游戏、街机游戏、动作游戏   \n",
      "3    0.588596           F18 Carrier Landing   68.0    游戏、娱乐、模拟游戏、动作游戏   \n",
      "4    0.572557                   驯龙战机3D「已下架」    0.0                 游戏   \n",
      "\n",
      "   rdtimestamp    size  payInApp  compatibility  contentRank  samepubappnum  \\\n",
      "0   1453651200  275.93         0            7.0          9.0             42   \n",
      "1   1441123200  109.50         1            8.0          4.0            156   \n",
      "2   1482422400  176.92         1            6.0          9.0             12   \n",
      "3   1312905600  182.40         1            8.0          4.0             18   \n",
      "4   1447603200  635.89         1            6.0         17.0            208   \n",
      "\n",
      "        age  span  active_num  cover_num  user_num       mau  coverage  \\\n",
      "0  1.936986   1.0         4.0         29    373183  0.000011  0.000078   \n",
      "1  2.334247   1.0         0.0         32    373183  0.000000  0.000086   \n",
      "2  1.024658   1.0        11.0         58    373183  0.000029  0.000155   \n",
      "3  6.400000   1.0         1.0         15    373183  0.000003  0.000040   \n",
      "4  2.128767   1.0         0.0         10    373183  0.000000  0.000027   \n",
      "\n",
      "       app_m      app_v  apptype_m    apptype_v   gtype_m  gtype_v    game_m  \\\n",
      "0  19.771155  78.147914  48.962644  2931.923231  5.159818  7.31331  8.673217   \n",
      "1  19.771155  78.147914  48.962644  2931.923231  5.159818  7.31331  8.673217   \n",
      "2  19.771155  78.147914  48.962644  2931.923231  5.159818  7.31331  8.673217   \n",
      "3  19.771155  78.147914  48.962644  2931.923231  5.159818  7.31331  8.673217   \n",
      "4  19.771155  78.147914  48.962644  2931.923231  5.159818  7.31331  8.673217   \n",
      "\n",
      "       game_v   rgame_m   rgame_v  rgtype_m  rgtype_v  type_ratio_m  \\\n",
      "0  111.769414  0.193794  0.013211  0.287416  0.023793      0.243889   \n",
      "1  111.769414  0.193794  0.013211  0.287416  0.023793      0.243889   \n",
      "2  111.769414  0.193794  0.013211  0.287416  0.023793      0.243889   \n",
      "3  111.769414  0.193794  0.013211  0.287416  0.023793      0.243889   \n",
      "4  111.769414  0.193794  0.013211  0.287416  0.023793      0.243889   \n",
      "\n",
      "   type_ratio_v    g_app_m    g_app_v  g_apptype_m  g_apptype_v  g_gtype_m  \\\n",
      "0       0.05551  18.413793  41.108374    59.000000  1553.785714   6.862069   \n",
      "1       0.05551  18.093750  42.087702    72.781250  2854.240927   5.750000   \n",
      "2       0.05551  21.931034  81.898154    67.758621  2804.240534   6.517241   \n",
      "3       0.05551  18.733333  51.923810    42.866667   339.552381   5.066667   \n",
      "4       0.05551  23.000000  55.555556    56.800000   893.955556   6.700000   \n",
      "\n",
      "   g_gtype_v   g_game_m    g_game_v  g_rgame_m  g_rgame_v  g_rgtype_m  \\\n",
      "0   6.551724  13.034483   70.748768   0.237363   0.011621    0.389029   \n",
      "1   5.354839  15.156250  109.490927   0.227892   0.010250    0.326140   \n",
      "2  10.000044  14.465517  217.275261   0.206111   0.011021    0.321090   \n",
      "3   6.352381   7.866667   42.409524   0.174708   0.008964    0.274068   \n",
      "4   6.677778  14.500000  177.388889   0.245517   0.017364    0.298065   \n",
      "\n",
      "   g_rgtype_v  \n",
      "0    0.015363  \n",
      "1    0.010026  \n",
      "2    0.020677  \n",
      "3    0.010776  \n",
      "4    0.007853  \n"
     ]
    }
   ],
   "source": [
    "bs1_diff1_perf2 = bs1_diff1.merge(perf2,on = ['appleid','date'])\n",
    "print('bs1_diff1_perf2\\n',bs1_diff1_perf2.shape,'\\n',bs1_diff1_perf2.head())\n",
    "\n",
    "\n",
    "bs1_diff1_perf2_dc = bs1_diff1_perf2.merge(dc, on = ['type_code','date'], how = 'inner')\n",
    "print('bs1_diff1_perf2_dc\\n',bs1_diff1_perf2_dc.shape,'\\n',bs1_diff1_perf2_dc.head())\n",
    "\n",
    "bs1_diff1_perf2_dc_dcgid2 = bs1_diff1_perf2_dc.merge(dcgid2, on = ['appleid','date','cover_num'],how = 'inner')\n",
    "print('bs1_diff1_perf2_dc_dcgid2\\n',bs1_diff1_perf2_dc_dcgid2.shape,'\\n',bs1_diff1_perf2_dc_dcgid2.head())"
   ]
  },
  {
   "cell_type": "code",
   "execution_count": 60,
   "metadata": {},
   "outputs": [
    {
     "data": {
      "text/plain": [
       "Index(['appleid', 'type_code', 'date', 'timestamp', 'diff_p_f', 'diff_p_max',\n",
       "       'diff_e_f', 'diff_e_max', 'appName', 'price', 'tags', 'rdtimestamp',\n",
       "       'size', 'payInApp', 'compatibility', 'contentRank', 'samepubappnum',\n",
       "       'age', 'span', 'active_num', 'cover_num', 'user_num', 'mau', 'coverage',\n",
       "       'app_m', 'app_v', 'apptype_m', 'apptype_v', 'gtype_m', 'gtype_v',\n",
       "       'game_m', 'game_v', 'rgame_m', 'rgame_v', 'rgtype_m', 'rgtype_v',\n",
       "       'type_ratio_m', 'type_ratio_v', 'g_app_m', 'g_app_v', 'g_apptype_m',\n",
       "       'g_apptype_v', 'g_gtype_m', 'g_gtype_v', 'g_game_m', 'g_game_v',\n",
       "       'g_rgame_m', 'g_rgame_v', 'g_rgtype_m', 'g_rgtype_v'],\n",
       "      dtype='object')"
      ]
     },
     "execution_count": 60,
     "metadata": {},
     "output_type": "execute_result"
    }
   ],
   "source": [
    "bs1_diff1_perf2_dc_dcgid2.columns"
   ]
  },
  {
   "cell_type": "code",
   "execution_count": 65,
   "metadata": {},
   "outputs": [
    {
     "name": "stdout",
     "output_type": "stream",
     "text": [
      "tableForReg_baseOnTdtype20190920 created\n",
      "complete insert\n"
     ]
    }
   ],
   "source": [
    "# 保存一下\n",
    "bs1_diff1_perf2_dc_dcgid2_vardict = {'datahash': 'varchar(100) primary key',\n",
    "                                     'appleid': 'integer','type_code':'varchar(20)','date':'varchar(20)','timestamp':'integer',\n",
    "                                     'diff_p_f':'float','diff_p_max':'float','diff_e_f':'float','diff_e_max':'float',\n",
    "                                     'appName': 'varchar(50)','price':'float','tags':'varchar(50)',\n",
    "                                     'rdtimestamp':'integer','size':'float','payInApp':'integer',\n",
    "                                     'compatibility':'float','contentRank':'integer','samepubappnum':'integer',\n",
    "                                     'age':'float','span':'integer',\n",
    "                                     'active_num':'integer','cover_num':'integer',\n",
    "                                     'user_num':'integer',\n",
    "                                     'mau':'float', 'coverage':'float',\n",
    "                                     'app_m':'float','app_v':'float',\n",
    "                                     'apptype_m':'float','apptype_v':'float',\n",
    "                                     'gtype_m':'float','gtype_v':'float',\n",
    "                                     'game_m':'float', 'game_v':'float',\n",
    "                                     'rgame_m':'float','rgame_v':'float',\n",
    "                                     'rgtype_m':'float','rgtype_v':'float',\n",
    "                                     'type_ratio_m':'float','type_ratio_v':'float',\n",
    "                                     'g_app_m':'float','g_app_v':'float',\n",
    "                                     'g_apptype_m':'float','g_apptype_v':'float',\n",
    "                                     'g_gtype_m':'float','g_gtype_v':'float',\n",
    "                                     'g_game_m':'float','g_game_v':'float',\n",
    "                                     'g_rgame_m':'float','g_rgame_v':'float',\n",
    "                                     'g_rgtype_m':'float','g_rgtype_v':'float'}\n",
    "create_table('tableForReg_baseOnTdtype20190920',bs1_diff1_perf2_dc_dcgid2_vardict)\n",
    "insert_data('tableForReg_baseOnTdtype20190920',bs1_diff1_perf2_dc_dcgid2)"
   ]
  },
  {
   "cell_type": "markdown",
   "metadata": {},
   "source": [
    "## 1.2 生成回归用表2，20190914reg2（基于自己的分类）"
   ]
  },
  {
   "cell_type": "code",
   "execution_count": 70,
   "metadata": {},
   "outputs": [
    {
     "name": "stdout",
     "output_type": "stream",
     "text": [
      "diff2:\n",
      " (187144, 6) \n",
      "       appleid type_code      date   timestamp  diff_p_f  diff_p_max\n",
      "0  1117273600   T200900  20170131  1485878400  0.951814    0.870415\n",
      "1  1117273600   T200600  20170131  1485878400  0.951814    0.870415\n",
      "2  1117273600   T200900  20170228  1488297600  0.946086    0.866075\n",
      "3  1117273600   T200600  20170228  1488297600  0.946086    0.866075\n",
      "4  1117273600   T200900  20170331  1490976000  0.945640    0.854021\n"
     ]
    }
   ],
   "source": [
    "diff2_cmd = 'select * from aso_diff20190913'\n",
    "diff2 = pd.read_sql(diff2_cmd,conn).drop(columns = 'datahash')\n",
    "print('diff2:\\n',diff2.shape,'\\n',diff2.head())"
   ]
  },
  {
   "cell_type": "code",
   "execution_count": 71,
   "metadata": {},
   "outputs": [
    {
     "name": "stdout",
     "output_type": "stream",
     "text": [
      "bs2:/n (13088, 12) \n",
      "      appleid            appName  price             tags  rdtimestamp   size  \\\n",
      "0  281736535             Enigmo   12.0  游戏、智力游戏、娱乐、街机游戏   1215705600  23.06   \n",
      "1  284480400     Word Warp「已下架」    6.0     游戏、智力游戏、文字游戏   1215705600  13.65   \n",
      "2  284752907     Blackjack「已下架」    6.0   游戏、扑克牌游戏、娱乐场游戏   1215705600  51.03   \n",
      "3  284911691          Dice「已下架」    6.0  游戏、娱乐、桌面游戏、骰子游戏   1215705600    NaN   \n",
      "4  284943962  Moonlight Mahjong    6.0     游戏、智力游戏、桌面游戏   1215705600  48.20   \n",
      "\n",
      "   payInApp  compatibility  contentRank  samepubappnum       age  span  \n",
      "0         1            8.0          4.0             23  9.482192   1.0  \n",
      "1         0            6.0          4.0             31  9.482192   NaN  \n",
      "2         1            6.0          4.0             31  9.482192   NaN  \n",
      "3         0            NaN          NaN              0  9.482192   NaN  \n",
      "4         0            NaN          4.0              7  9.482192   NaN  \n"
     ]
    }
   ],
   "source": [
    "bs2 = pd.read_sql(bs1_cmd,conn).drop(columns = ['datahash','type_code','type']).drop_duplicates()\n",
    "print('bs2:/n',bs2.shape,'\\n',bs2.head())"
   ]
  },
  {
   "cell_type": "code",
   "execution_count": 72,
   "metadata": {},
   "outputs": [
    {
     "name": "stdout",
     "output_type": "stream",
     "text": [
      "(187144, 17) \n",
      "       appleid type_code      date   timestamp  diff_p_f  diff_p_max  \\\n",
      "0  1117273600   T200900  20170131  1485878400  0.951814    0.870415   \n",
      "1  1117273600   T200600  20170131  1485878400  0.951814    0.870415   \n",
      "2  1117273600   T200900  20170228  1488297600  0.946086    0.866075   \n",
      "3  1117273600   T200600  20170228  1488297600  0.946086    0.866075   \n",
      "4  1117273600   T200900  20170331  1490976000  0.945640    0.854021   \n",
      "\n",
      "            appName  price            tags  rdtimestamp   size  payInApp  \\\n",
      "0  少女前线-二次元枪娘养成战术手游    0.0  游戏、策略游戏、角色扮演游戏   1467734400  531.0         1   \n",
      "1  少女前线-二次元枪娘养成战术手游    0.0  游戏、策略游戏、角色扮演游戏   1467734400  531.0         1   \n",
      "2  少女前线-二次元枪娘养成战术手游    0.0  游戏、策略游戏、角色扮演游戏   1467734400  531.0         1   \n",
      "3  少女前线-二次元枪娘养成战术手游    0.0  游戏、策略游戏、角色扮演游戏   1467734400  531.0         1   \n",
      "4  少女前线-二次元枪娘养成战术手游    0.0  游戏、策略游戏、角色扮演游戏   1467734400  531.0         1   \n",
      "\n",
      "   compatibility  contentRank  samepubappnum       age  span  \n",
      "0            7.0         12.0             11  1.490411   2.0  \n",
      "1            7.0         12.0             11  1.490411   2.0  \n",
      "2            7.0         12.0             11  1.490411   2.0  \n",
      "3            7.0         12.0             11  1.490411   2.0  \n",
      "4            7.0         12.0             11  1.490411   2.0  \n"
     ]
    }
   ],
   "source": [
    "diff2_bs2 = diff2.merge(bs2,on = 'appleid', how = 'left')\n",
    "print(diff2_bs2.shape,'\\n',diff2_bs2.head())"
   ]
  },
  {
   "cell_type": "code",
   "execution_count": 74,
   "metadata": {},
   "outputs": [
    {
     "name": "stdout",
     "output_type": "stream",
     "text": [
      "(187144, 22) \n",
      "       appleid type_code      date   timestamp  diff_p_f  diff_p_max  \\\n",
      "0  1117273600   T200900  20170131  1485878400  0.951814    0.870415   \n",
      "1  1117273600   T200600  20170131  1485878400  0.951814    0.870415   \n",
      "2  1117273600   T200900  20170228  1488297600  0.946086    0.866075   \n",
      "3  1117273600   T200600  20170228  1488297600  0.946086    0.866075   \n",
      "4  1117273600   T200900  20170331  1490976000  0.945640    0.854021   \n",
      "\n",
      "            appName  price            tags  rdtimestamp   size  payInApp  \\\n",
      "0  少女前线-二次元枪娘养成战术手游    0.0  游戏、策略游戏、角色扮演游戏   1467734400  531.0         1   \n",
      "1  少女前线-二次元枪娘养成战术手游    0.0  游戏、策略游戏、角色扮演游戏   1467734400  531.0         1   \n",
      "2  少女前线-二次元枪娘养成战术手游    0.0  游戏、策略游戏、角色扮演游戏   1467734400  531.0         1   \n",
      "3  少女前线-二次元枪娘养成战术手游    0.0  游戏、策略游戏、角色扮演游戏   1467734400  531.0         1   \n",
      "4  少女前线-二次元枪娘养成战术手游    0.0  游戏、策略游戏、角色扮演游戏   1467734400  531.0         1   \n",
      "\n",
      "   compatibility  contentRank  samepubappnum       age  span  active_num  \\\n",
      "0            7.0         12.0             11  1.490411   2.0       449.0   \n",
      "1            7.0         12.0             11  1.490411   2.0       449.0   \n",
      "2            7.0         12.0             11  1.490411   2.0       403.0   \n",
      "3            7.0         12.0             11  1.490411   2.0       403.0   \n",
      "4            7.0         12.0             11  1.490411   2.0       404.0   \n",
      "\n",
      "   cover_num  user_num       mau  coverage  \n",
      "0      519.0  373183.0  0.001203  0.001391  \n",
      "1      519.0  373183.0  0.001203  0.001391  \n",
      "2      458.0  345535.0  0.001166  0.001325  \n",
      "3      458.0  345535.0  0.001166  0.001325  \n",
      "4      456.0  339440.0  0.001190  0.001343  \n"
     ]
    }
   ],
   "source": [
    "diff2_bs2_perf2 = diff2_bs2.merge(perf2,on = ['appleid','date'], how = 'left')\n",
    "print(diff2_bs2_perf2.shape,'\\n',diff2_bs2_perf2.head())"
   ]
  },
  {
   "cell_type": "code",
   "execution_count": 75,
   "metadata": {},
   "outputs": [
    {
     "name": "stdout",
     "output_type": "stream",
     "text": [
      "tableForRobust_baseOnMytype20190920 created\n",
      "complete insert\n"
     ]
    }
   ],
   "source": [
    "diff2_bs2_perf2_vardict = {'datahash': 'varchar(100) primary key',\n",
    "                     'appleid': 'integer','type_code':'varchar(20)','date':'varchar(20)','timestamp':'integer',\n",
    "                     'diff_p_f':'float','diff_p_max':'float',\n",
    "                     'appName': 'varchar(50)','price':'float','tags':'varchar(50)',\n",
    "                     'rdtimestamp':'integer','size':'float','payInApp':'integer',\n",
    "                     'compatibility':'float','contentRank':'integer','samepubappnum':'integer',\n",
    "                     'age':'float','span':'integer',\n",
    "                     'active_num':'integer','cover_num':'integer',\n",
    "                     'user_num':'integer',\n",
    "                     'mau':'float', 'coverage':'float'}\n",
    "create_table('tableForRobust_baseOnMytype20190920',diff2_bs2_perf2_vardict)\n",
    "insert_data('tableForRobust_baseOnMytype20190920',diff2_bs2_perf2)"
   ]
  },
  {
   "cell_type": "code",
   "execution_count": null,
   "metadata": {},
   "outputs": [],
   "source": []
  }
 ],
 "metadata": {
  "kernelspec": {
   "display_name": "Python 3",
   "language": "python",
   "name": "python3"
  },
  "language_info": {
   "codemirror_mode": {
    "name": "ipython",
    "version": 3
   },
   "file_extension": ".py",
   "mimetype": "text/x-python",
   "name": "python",
   "nbconvert_exporter": "python",
   "pygments_lexer": "ipython3",
   "version": "3.7.3"
  }
 },
 "nbformat": 4,
 "nbformat_minor": 2
}
