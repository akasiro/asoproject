{
 "cells": [
  {
   "cell_type": "code",
   "execution_count": 28,
   "metadata": {},
   "outputs": [],
   "source": [
    "from datapath_tool import *\n",
    "from toolfunc import *"
   ]
  },
  {
   "cell_type": "code",
   "execution_count": 9,
   "metadata": {},
   "outputs": [],
   "source": [
    "savedatapath = r'/home/pi/Documents/data/asoproject/forreg20190913'\n",
    "if not os.path.exists(savedatapath):\n",
    "    os.mkdir(savedatapath)"
   ]
  },
  {
   "cell_type": "markdown",
   "metadata": {},
   "source": [
    "# 1 生成两个回归用数据表\n",
    "* 第一个以td分类为准生成diff\n",
    "* 第二个以id_category20190913分类为准生成diff"
   ]
  },
  {
   "cell_type": "markdown",
   "metadata": {},
   "source": [
    "## 1.0 公用数据，需求数据"
   ]
  },
  {
   "cell_type": "code",
   "execution_count": 13,
   "metadata": {},
   "outputs": [
    {
     "name": "stdout",
     "output_type": "stream",
     "text": [
      "dc:\n",
      " (264, 16) \n",
      " Index(['type_code', 'date', 'app_m', 'app_v', 'apptype_m', 'apptype_v',\n",
      "       'gtype_m', 'gtype_v', 'game_m', 'game_v', 'rgame_m', 'rgame_v',\n",
      "       'rgtype_m', 'rgtype_v', 'type_ratio_m', 'type_ratio_v'],\n",
      "      dtype='object')\n"
     ]
    }
   ],
   "source": [
    "dc_cmd = 'select * from category_demand_td_20190820'\n",
    "\n",
    "\n",
    "dc = pd.read_sql(dc_cmd,conn).drop(columns = 'datahash')\n",
    "print('dc:\\n',dc.shape,'\\n',dc.columns)\n",
    "\n",
    "\n"
   ]
  },
  {
   "cell_type": "code",
   "execution_count": 20,
   "metadata": {},
   "outputs": [
    {
     "name": "stdout",
     "output_type": "stream",
     "text": [
      "dcgp\n",
      " (85185, 21) \n",
      " Index(['pkgName', 'type', 'type_code', 'date', 'user_num', 'active_num',\n",
      "       'cover_num', 'mau', 'coverage', 'g_app_m', 'g_app_v', 'g_apptype_m',\n",
      "       'g_apptype_v', 'g_gtype_m', 'g_gtype_v', 'g_game_m', 'g_game_v',\n",
      "       'g_rgame_m', 'g_rgame_v', 'g_rgtype_m', 'g_rgtype_v'],\n",
      "      dtype='object')\n",
      "pkgid\n",
      " (8031, 3)\n",
      "dcgpid\n",
      " (46338, 22) \n",
      " Index(['pkgName', 'type', 'type_code', 'date', 'user_num', 'active_num',\n",
      "       'cover_num', 'mau', 'coverage', 'g_app_m', 'g_app_v', 'g_apptype_m',\n",
      "       'g_apptype_v', 'g_gtype_m', 'g_gtype_v', 'g_game_m', 'g_game_v',\n",
      "       'g_rgame_m', 'g_rgame_v', 'g_rgtype_m', 'g_rgtype_v', 'appleid'],\n",
      "      dtype='object')\n"
     ]
    }
   ],
   "source": [
    "dcgp_cmd = 'select * from game_demand_perf_td_20190820'\n",
    "pkgid_cmd = 'select * from pkgname_appleid'\n",
    "dcgp = pd.read_sql(dcgp_cmd,conn).drop(columns = 'datahash').drop(columns = ['appHash','id'])\n",
    "pkgid = pd.read_sql(pkgid_cmd,conn)[['pkgName','type_code','appleid']]\n",
    "print('dcgp\\n', dcgp.shape,'\\n',dcgp.columns)\n",
    "print('pkgid\\n',pkgid.shape)\n",
    "dcgpid = dcgp.merge(pkgid,on = ['pkgName','type_code'], how = 'left').dropna(subset = ['appleid'])\n",
    "print('dcgpid\\n',dcgpid.shape,'\\n',dcgpid.columns)"
   ]
  },
  {
   "cell_type": "code",
   "execution_count": 26,
   "metadata": {},
   "outputs": [
    {
     "name": "stdout",
     "output_type": "stream",
     "text": [
      "perf:\n",
      "         appleid      date  active_num  cover_num\n",
      "36  953435594.0  20170228        19.0         97\n",
      "37  953435594.0  20170331        14.0         89\n",
      "38  953435594.0  20170430        22.0        116\n",
      "39  953435594.0  20170531        12.0        104\n",
      "40  953435594.0  20170630        21.0         92\n",
      "user_num:\n",
      " (12, 2) \n",
      "        date  user_num\n",
      "0  20170228    345535\n",
      "1  20170331    339440\n",
      "2  20170430    383981\n",
      "3  20170531    330104\n",
      "4  20170630    281469\n",
      "perf1:\n",
      " (18625, 4) \n",
      "    appleid      date  active_num  cover_num\n",
      "0  66204.0  20170131         3.0         36\n",
      "1  66204.0  20170228         0.0         31\n",
      "2  66204.0  20170331         2.0         29\n",
      "3  66204.0  20170430         1.0         20\n",
      "4  66204.0  20170531         2.0         23\n",
      "perf2:\n",
      " (18625, 7) \n",
      "        appleid      date  active_num  cover_num  user_num       mau  coverage\n",
      "0      66204.0  20170131         3.0         36    373183  0.000008  0.000096\n",
      "1    9223426.0  20170131        10.0         63    373183  0.000027  0.000169\n",
      "2  281736535.0  20170131        25.0         27    373183  0.000067  0.000072\n",
      "3  307751675.0  20170131         5.0          5    373183  0.000013  0.000013\n",
      "4  328992396.0  20170131        11.0         93    373183  0.000029  0.000249\n"
     ]
    }
   ],
   "source": [
    "perf = dcgpid[['appleid','date','active_num','cover_num']]\n",
    "print('perf:\\n',perf.head())\n",
    "user_num = dcgp[['date','user_num']].drop_duplicates()\n",
    "print('user_num:\\n',user_num.shape,'\\n',user_num.head())\n",
    "perfgroup = perf.groupby(['appleid','date'])\n",
    "perf1 = perfgroup.agg(sum).reset_index()\n",
    "print('perf1:\\n',perf1.shape,'\\n',perf1.head())\n",
    "perf2 = perf1.merge(user_num,on = 'date')\n",
    "perf2['mau'] = perf2['active_num']/perf2['user_num']\n",
    "perf2['coverage'] = perf2['cover_num']/perf2['user_num']\n",
    "print('perf2:\\n',perf2.shape,'\\n',perf2.head())"
   ]
  },
  {
   "cell_type": "code",
   "execution_count": 29,
   "metadata": {},
   "outputs": [
    {
     "name": "stdout",
     "output_type": "stream",
     "text": [
      "perf_appleid20190913 created\n",
      "complete insert\n"
     ]
    }
   ],
   "source": [
    "perf2_vardict = {'datahash': 'varchar(100) primary key',\n",
    "                 'appleid': 'integer',\n",
    "                'date':'varchar(20)',\n",
    "                'active_num':'integer',\n",
    "                'cover_num':'integer',\n",
    "                'user_num':'integer',\n",
    "                'mau':'float',\n",
    "                'coverage':'float'}\n",
    "create_table('perf_appleid20190913',perf2_vardict)\n",
    "insert_data('perf_appleid20190913',perf2)"
   ]
  },
  {
   "cell_type": "code",
   "execution_count": 30,
   "metadata": {},
   "outputs": [
    {
     "name": "stdout",
     "output_type": "stream",
     "text": [
      "dcgid\n",
      " (46338, 15) \n",
      "         appleid      date  cover_num    g_app_m     g_app_v  g_apptype_m  \\\n",
      "36  953435594.0  20170228         97  17.381443  131.821735    59.742268   \n",
      "37  953435594.0  20170331         89  16.292135   54.413687    42.078652   \n",
      "38  953435594.0  20170430        116  16.439655   96.596327    49.068966   \n",
      "39  953435594.0  20170531        104  16.009615   55.757188    39.846154   \n",
      "40  953435594.0  20170630         92  13.728261   33.145127    31.554348   \n",
      "\n",
      "     g_apptype_v  g_gtype_m  g_gtype_v   g_game_m     g_game_v  g_rgame_m  \\\n",
      "36  38975.714132   5.577320   7.246564  13.391753  1686.261598   0.244149   \n",
      "37   1010.527835   5.337079   5.407814   8.617978    31.329673   0.237631   \n",
      "38  18387.056072   5.431034   6.212594  11.698276   895.395127   0.248013   \n",
      "39    759.432412   5.298077   5.298637   9.259615    67.397965   0.248687   \n",
      "40    270.293717   4.673913   4.485905   7.326087    31.167224   0.240330   \n",
      "\n",
      "    g_rgame_v  g_rgtype_m  g_rgtype_v  \n",
      "36   0.015233    0.353053    0.017439  \n",
      "37   0.014327    0.353884    0.016597  \n",
      "38   0.013658    0.353578    0.015799  \n",
      "39   0.014933    0.357667    0.018139  \n",
      "40   0.013917    0.355585    0.014320  \n"
     ]
    },
    {
     "name": "stderr",
     "output_type": "stream",
     "text": [
      "/usr/lib/python3/dist-packages/ipykernel_launcher.py:5: SettingWithCopyWarning: \n",
      "A value is trying to be set on a copy of a slice from a DataFrame.\n",
      "Try using .loc[row_indexer,col_indexer] = value instead\n",
      "\n",
      "See the caveats in the documentation: http://pandas.pydata.org/pandas-docs/stable/user_guide/indexing.html#returning-a-view-versus-a-copy\n",
      "  \"\"\"\n"
     ]
    },
    {
     "name": "stdout",
     "output_type": "stream",
     "text": [
      "dcgid2\n",
      " (18625, 15) \n",
      "    appleid      date  cover_num    g_app_m     g_app_v  g_apptype_m  \\\n",
      "0  66204.0  20170131         36  19.666667   50.800000    71.500000   \n",
      "1  66204.0  20170228         31  19.870968   69.516129    74.290323   \n",
      "2  66204.0  20170331         29  19.103448   78.810345    69.689655   \n",
      "3  66204.0  20170430         20  20.800000   98.905263    92.550000   \n",
      "4  66204.0  20170531         23  22.043478  109.225296    84.521739   \n",
      "\n",
      "   g_apptype_v  g_gtype_m  g_gtype_v   g_game_m    g_game_v  g_rgame_m  \\\n",
      "0  1086.771429   4.861111   4.694444  13.972222  104.256349   0.191001   \n",
      "1  1827.079570   5.096774   5.623656  15.290323  140.612903   0.203084   \n",
      "2  1269.793103   5.103448   5.667488  14.862069  111.980296   0.221136   \n",
      "3  6923.102632   5.800000  10.589474  18.900000  501.042105   0.180027   \n",
      "4  4908.351779   4.695652   4.312253  13.478261   97.442688   0.184380   \n",
      "\n",
      "   g_rgame_v  g_rgtype_m  g_rgtype_v  \n",
      "0   0.008841    0.267497    0.012691  \n",
      "1   0.009561    0.282075    0.016977  \n",
      "2   0.013307    0.302501    0.024208  \n",
      "3   0.008890    0.308869    0.021980  \n",
      "4   0.011063    0.238261    0.013173  \n"
     ]
    }
   ],
   "source": [
    "dcgid = dcgpid[['appleid','date','cover_num','g_app_m', 'g_app_v', 'g_apptype_m','g_apptype_v', 'g_gtype_m', 'g_gtype_v', 'g_game_m', 'g_game_v','g_rgame_m', 'g_rgame_v', 'g_rgtype_m', 'g_rgtype_v']]\n",
    "print('dcgid\\n',dcgid.shape,'\\n',dcgid.head())\n",
    "demand_var = ['g_app_m', 'g_app_v', 'g_apptype_m','g_apptype_v', 'g_gtype_m', 'g_gtype_v', 'g_game_m', 'g_game_v','g_rgame_m', 'g_rgame_v', 'g_rgtype_m', 'g_rgtype_v']\n",
    "for i in demand_var:\n",
    "    dcgid[i] = dcgid[i]*dcgid['cover_num']\n",
    "dcgidgroup = dcgid.groupby(['appleid','date'])\n",
    "dcgid2 = dcgidgroup.agg(sum).reset_index()\n",
    "for i in demand_var:\n",
    "    dcgid2[i] = dcgid2[i]/dcgid2['cover_num']\n",
    "print('dcgid2\\n',dcgid2.shape,'\\n',dcgid2.head())"
   ]
  },
  {
   "cell_type": "code",
   "execution_count": 31,
   "metadata": {},
   "outputs": [
    {
     "name": "stdout",
     "output_type": "stream",
     "text": [
      "game_demand_appleid201909013 created\n",
      "complete insert\n"
     ]
    }
   ],
   "source": [
    "demand_game_level_vardict = {'datahash': 'varchar(100) primary key',\n",
    "                             'appleid': 'integer',\n",
    "                             'date':'varchar(20)',\n",
    "                             'cover_num':'integer',\n",
    "                             'g_app_m':'float',\n",
    "                             'g_app_v':'float',\n",
    "                             'g_apptype_m':'float',\n",
    "                             'g_apptype_v':'float',\n",
    "                             'g_gtype_m':'float',\n",
    "                             'g_gtype_v':'float',\n",
    "                             'g_game_m':'float',\n",
    "                             'g_game_v':'float',\n",
    "                             'g_rgame_m':'float',\n",
    "                             'g_rgame_v':'float',\n",
    "                             'g_rgtype_m':'float',\n",
    "                             'g_rgtype_v':'float'}\n",
    "create_table('game_demand_appleid201909013',demand_game_level_vardict)\n",
    "insert_data('game_demand_appleid201909013',dcgid2)"
   ]
  },
  {
   "cell_type": "code",
   "execution_count": 32,
   "metadata": {},
   "outputs": [],
   "source": [
    "# with open('/home/pi/Documents/buffer/logtemp20190917.txt','r') as f:\n",
    "#     insertlog(f.read())"
   ]
  },
  {
   "cell_type": "markdown",
   "metadata": {},
   "source": [
    "## 1.1 生成回归用表1，20190914reg1（基于td分类）"
   ]
  },
  {
   "cell_type": "code",
   "execution_count": 4,
   "metadata": {},
   "outputs": [
    {
     "name": "stdout",
     "output_type": "stream",
     "text": [
      "bs1:  (4448, 14)\n",
      "bs1:  Index(['appleid', 'appName', 'price', 'tags', 'rdtimestamp', 'size',\n",
      "       'payInApp', 'compatibility', 'contentRank', 'samepubappnum', 'age',\n",
      "       'type_code', 'type', 'span'],\n",
      "      dtype='object')\n",
      "diff1:  (17046, 8)\n",
      "diff1:  Index(['appleid', 'type_code', 'date', 'timestamp', 'diff_p_f', 'diff_p_max',\n",
      "       'diff_e_f', 'diff_e_max'],\n",
      "      dtype='object')\n"
     ]
    }
   ],
   "source": [
    "bs1_cmd = 'select * from bs_pkg_span20190912'\n",
    "diff1_cmd = 'select * from aso_diff20190724'\n",
    "bs1 = pd.read_sql(bs1_cmd,conn).drop(columns = 'datahash').dropna(subset = ['type_code'])\n",
    "print('bs1: ',bs1.shape)\n",
    "print('bs1: ',bs1.columns)\n",
    "diff1 = pd.read_sql(diff1_cmd,conn).drop(columns = 'datahash')\n",
    "print('diff1: ',diff1.shape)\n",
    "print('diff1: ',diff1.columns)"
   ]
  },
  {
   "cell_type": "code",
   "execution_count": 7,
   "metadata": {},
   "outputs": [
    {
     "name": "stdout",
     "output_type": "stream",
     "text": [
      "bs_diff1:\n",
      " (45764, 20)\n",
      "Index(['appleid', 'appName', 'price', 'tags', 'rdtimestamp', 'size',\n",
      "       'payInApp', 'compatibility', 'contentRank', 'samepubappnum', 'age',\n",
      "       'type_code', 'type', 'span', 'date', 'timestamp', 'diff_p_f',\n",
      "       'diff_p_max', 'diff_e_f', 'diff_e_max'],\n",
      "      dtype='object')\n",
      "     appleid       appName  price             tags  rdtimestamp   size  \\\n",
      "0  307751675  PopStar!消灭星星    6.0  游戏、智力游戏、桌面游戏、娱乐   1256227200  12.82   \n",
      "1  307751675  PopStar!消灭星星    6.0  游戏、智力游戏、桌面游戏、娱乐   1256227200  12.82   \n",
      "2  307751675  PopStar!消灭星星    6.0  游戏、智力游戏、桌面游戏、娱乐   1256227200  12.82   \n",
      "3  307751675  PopStar!消灭星星    6.0  游戏、智力游戏、桌面游戏、娱乐   1256227200  12.82   \n",
      "4  307751675  PopStar!消灭星星    6.0  游戏、智力游戏、桌面游戏、娱乐   1256227200  12.82   \n",
      "\n",
      "   payInApp  compatibility  contentRank  samepubappnum      age type_code  \\\n",
      "0         1            5.1          4.0             80  8.19726   T201300   \n",
      "1         1            5.1          4.0             80  8.19726   T201300   \n",
      "2         1            5.1          4.0             80  8.19726   T201300   \n",
      "3         1            5.1          4.0             80  8.19726   T201300   \n",
      "4         1            5.1          4.0             80  8.19726   T201300   \n",
      "\n",
      "   type  span      date   timestamp  diff_p_f  diff_p_max  diff_e_f  \\\n",
      "0  休闲游戏   1.0  20170131  1485878400  0.933636    0.835554  0.900931   \n",
      "1  休闲游戏   1.0  20170228  1488297600  0.945905    0.836313  0.902458   \n",
      "2  休闲游戏   1.0  20170331  1490976000  0.950976    0.835460  0.902937   \n",
      "3  休闲游戏   1.0  20170430  1493568000  0.956198    0.834576  0.902288   \n",
      "4  休闲游戏   1.0  20170531  1496246400  0.957122    0.834331  0.902320   \n",
      "\n",
      "   diff_e_max  \n",
      "0    0.765219  \n",
      "1    0.778573  \n",
      "2    0.778326  \n",
      "3    0.778103  \n",
      "4    0.778292  \n"
     ]
    }
   ],
   "source": [
    "bs_diff1 = bs1.merge(diff1, on = ['appleid','type_code'], how = 'right')\n",
    "print('bs_diff1:\\n',bs_diff1.shape)\n",
    "print(bs_diff1.columns)\n",
    "print(bs_diff1.head())"
   ]
  },
  {
   "cell_type": "code",
   "execution_count": null,
   "metadata": {},
   "outputs": [],
   "source": []
  }
 ],
 "metadata": {
  "kernelspec": {
   "display_name": "Python 3",
   "language": "python",
   "name": "python3"
  },
  "language_info": {
   "codemirror_mode": {
    "name": "ipython",
    "version": 3
   },
   "file_extension": ".py",
   "mimetype": "text/x-python",
   "name": "python",
   "nbconvert_exporter": "python",
   "pygments_lexer": "ipython3",
   "version": "3.7.3"
  }
 },
 "nbformat": 4,
 "nbformat_minor": 2
}
